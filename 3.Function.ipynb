{
 "cells": [
  {
   "cell_type": "markdown",
   "id": "754f3ca4",
   "metadata": {},
   "source": [
    "# Functions\n",
    "- Code reusability"
   ]
  },
  {
   "cell_type": "code",
   "execution_count": 1,
   "id": "44961895",
   "metadata": {},
   "outputs": [
    {
     "name": "stdout",
     "output_type": "stream",
     "text": [
      "Starting point of the function\n",
      "Finishing point of the function\n"
     ]
    }
   ],
   "source": [
    "def simplefunction():\n",
    "    print(\"Starting point of the function\")\n",
    "    print(\"Finishing point of the function\")\n",
    "simplefunction()"
   ]
  },
  {
   "cell_type": "code",
   "execution_count": 2,
   "id": "cc8ecadc",
   "metadata": {},
   "outputs": [],
   "source": [
    "# Find maximum of numbers\n",
    "def maximumnumber(x, y):\n",
    "    \"\"\"Function takes two number x and y, returns greater/maximum number\"\"\"\n",
    "    if x>y:\n",
    "        print(x, \"is greater\")\n",
    "    else:\n",
    "        print(y, \"is greater\")"
   ]
  },
  {
   "cell_type": "code",
   "execution_count": 4,
   "id": "37943d32",
   "metadata": {},
   "outputs": [
    {
     "name": "stdout",
     "output_type": "stream",
     "text": [
      "45 is greater\n"
     ]
    }
   ],
   "source": [
    "# shift + tab + tab\n",
    "maximumnumber()"
   ]
  },
  {
   "cell_type": "code",
   "execution_count": 5,
   "id": "a00b6e91",
   "metadata": {},
   "outputs": [
    {
     "name": "stdout",
     "output_type": "stream",
     "text": [
      "\n"
     ]
    }
   ],
   "source": [
    "print()"
   ]
  },
  {
   "cell_type": "markdown",
   "id": "5ba10cf0",
   "metadata": {},
   "source": [
    "## Factorial\n",
    "- iterative \n",
    "- 5! = 5 * 4 * 3 * 2 * 1"
   ]
  },
  {
   "cell_type": "code",
   "execution_count": 6,
   "id": "aba366f0",
   "metadata": {},
   "outputs": [
    {
     "data": {
      "text/plain": [
       "120"
      ]
     },
     "execution_count": 6,
     "metadata": {},
     "output_type": "execute_result"
    }
   ],
   "source": [
    "def func(x):\n",
    "    result = 1\n",
    "    for i in range(1, x + 1):\n",
    "        result = result*i\n",
    "    return result\n",
    "\n",
    "func(5)"
   ]
  },
  {
   "cell_type": "code",
   "execution_count": 8,
   "id": "7bad6804",
   "metadata": {},
   "outputs": [
    {
     "name": "stdout",
     "output_type": "stream",
     "text": [
      "Enter any number: 5\n",
      "Result:  120\n"
     ]
    }
   ],
   "source": [
    "num = int(input(\"Enter any number: \"))\n",
    "print(\"Result: \" , func(num))"
   ]
  },
  {
   "cell_type": "markdown",
   "id": "c8805f1c",
   "metadata": {},
   "source": [
    "## RECURSION\n",
    "- 5! = 5 * 4!\n",
    "- 4! = 4 * 3!"
   ]
  },
  {
   "cell_type": "code",
   "execution_count": 10,
   "id": "f5e60c56",
   "metadata": {},
   "outputs": [
    {
     "data": {
      "text/plain": [
       "120"
      ]
     },
     "execution_count": 10,
     "metadata": {},
     "output_type": "execute_result"
    }
   ],
   "source": [
    "def rec_fun(num):\n",
    "    if num == 0 or num == 1:\n",
    "        return 1\n",
    "    else:\n",
    "        return num * rec_fun(num - 1)\n",
    "    \n",
    "rec_fun(5)"
   ]
  },
  {
   "cell_type": "markdown",
   "id": "51f0ac92",
   "metadata": {},
   "source": [
    "## Default Argument"
   ]
  },
  {
   "cell_type": "code",
   "execution_count": 12,
   "id": "a48438be",
   "metadata": {},
   "outputs": [
    {
     "name": "stdout",
     "output_type": "stream",
     "text": [
      "The value of x is 7\n"
     ]
    }
   ],
   "source": [
    "def def_arg(x = 7):\n",
    "    print(\"The value of x is {}\".format(x))\n",
    "def_arg()"
   ]
  },
  {
   "cell_type": "code",
   "execution_count": 14,
   "id": "8934b8b6",
   "metadata": {},
   "outputs": [
    {
     "ename": "SyntaxError",
     "evalue": "non-default argument follows default argument (696611904.py, line 1)",
     "output_type": "error",
     "traceback": [
      "\u001b[1;36m  File \u001b[1;32m\"C:\\Users\\Avanti\\AppData\\Local\\Temp\\ipykernel_12424\\696611904.py\"\u001b[1;36m, line \u001b[1;32m1\u001b[0m\n\u001b[1;33m    def def_args(age = 7, height, weight):\u001b[0m\n\u001b[1;37m                                  ^\u001b[0m\n\u001b[1;31mSyntaxError\u001b[0m\u001b[1;31m:\u001b[0m non-default argument follows default argument\n"
     ]
    }
   ],
   "source": [
    "def def_args(age = 7, height, weight):\n",
    "    print((age*height*weight)/100)\n",
    "def_agrs(12, 25)"
   ]
  },
  {
   "cell_type": "code",
   "execution_count": null,
   "id": "698c86ab",
   "metadata": {},
   "outputs": [],
   "source": []
  },
  {
   "cell_type": "code",
   "execution_count": null,
   "id": "4b54609f",
   "metadata": {},
   "outputs": [],
   "source": []
  },
  {
   "cell_type": "code",
   "execution_count": null,
   "id": "38f278f2",
   "metadata": {},
   "outputs": [],
   "source": []
  },
  {
   "cell_type": "code",
   "execution_count": null,
   "id": "074287d4",
   "metadata": {},
   "outputs": [],
   "source": []
  },
  {
   "cell_type": "code",
   "execution_count": null,
   "id": "a549f644",
   "metadata": {},
   "outputs": [],
   "source": []
  },
  {
   "cell_type": "code",
   "execution_count": null,
   "id": "bcdcde23",
   "metadata": {},
   "outputs": [],
   "source": []
  },
  {
   "cell_type": "code",
   "execution_count": null,
   "id": "27e63f46",
   "metadata": {},
   "outputs": [],
   "source": []
  },
  {
   "cell_type": "code",
   "execution_count": null,
   "id": "80eddf15",
   "metadata": {},
   "outputs": [],
   "source": []
  },
  {
   "cell_type": "code",
   "execution_count": null,
   "id": "0a55f244",
   "metadata": {},
   "outputs": [],
   "source": []
  },
  {
   "cell_type": "code",
   "execution_count": null,
   "id": "cac4accf",
   "metadata": {},
   "outputs": [],
   "source": []
  },
  {
   "cell_type": "code",
   "execution_count": null,
   "id": "540b3430",
   "metadata": {},
   "outputs": [],
   "source": []
  }
 ],
 "metadata": {
  "kernelspec": {
   "display_name": "Python 3 (ipykernel)",
   "language": "python",
   "name": "python3"
  },
  "language_info": {
   "codemirror_mode": {
    "name": "ipython",
    "version": 3
   },
   "file_extension": ".py",
   "mimetype": "text/x-python",
   "name": "python",
   "nbconvert_exporter": "python",
   "pygments_lexer": "ipython3",
   "version": "3.9.13"
  }
 },
 "nbformat": 4,
 "nbformat_minor": 5
}
