{
 "cells": [
  {
   "cell_type": "code",
   "execution_count": 5,
   "id": "ae52aa16",
   "metadata": {},
   "outputs": [
    {
     "data": {
      "text/plain": [
       "re.compile(r'hello', re.UNICODE)"
      ]
     },
     "execution_count": 5,
     "metadata": {},
     "output_type": "execute_result"
    }
   ],
   "source": [
    "import re\n",
    "pattern = re.compile(\"hello\")\n",
    "pattern"
   ]
  },
  {
   "cell_type": "code",
   "execution_count": 6,
   "id": "f15234df",
   "metadata": {},
   "outputs": [
    {
     "data": {
      "text/plain": [
       "re.Pattern"
      ]
     },
     "execution_count": 6,
     "metadata": {},
     "output_type": "execute_result"
    }
   ],
   "source": [
    "type(pattern)"
   ]
  },
  {
   "cell_type": "code",
   "execution_count": 8,
   "id": "f6c913f5",
   "metadata": {},
   "outputs": [],
   "source": [
    "# we use the flag re.I (short for re.Ignorance) to ignore letter case in the regex pattern\n",
    "pattern = re.compile(\"hello\", flags=re.I) # Now hello will match Hello, HELLO and hello"
   ]
  },
  {
   "cell_type": "code",
   "execution_count": 10,
   "id": "7dd4d41e",
   "metadata": {},
   "outputs": [
    {
     "data": {
      "text/plain": [
       "re.compile(r'hello', re.IGNORECASE|re.UNICODE)"
      ]
     },
     "execution_count": 10,
     "metadata": {},
     "output_type": "execute_result"
    }
   ],
   "source": [
    "pattern"
   ]
  },
  {
   "cell_type": "markdown",
   "id": "cf6e6c46",
   "metadata": {},
   "source": [
    "# Pattern Matching"
   ]
  },
  {
   "cell_type": "code",
   "execution_count": 13,
   "id": "a8e67cd3",
   "metadata": {},
   "outputs": [],
   "source": [
    "# re.compile() is method for pattern matching\n",
    "pattern = re.compile(\"hello\")"
   ]
  },
  {
   "cell_type": "markdown",
   "id": "5a877aeb",
   "metadata": {},
   "source": [
    "## match\n",
    "- match(string, pos, endpos)\n",
    "- match checked only at begining\n",
    "- Checking starts from pos index of the string (default 0)\n",
    "- checking ends on endpos index of the string "
   ]
  },
  {
   "cell_type": "code",
   "execution_count": 11,
   "id": "9d9d969d",
   "metadata": {},
   "outputs": [],
   "source": [
    "match = pattern.match(\"hello \")"
   ]
  },
  {
   "cell_type": "code",
   "execution_count": 12,
   "id": "6e64c94b",
   "metadata": {},
   "outputs": [
    {
     "data": {
      "text/plain": [
       "re.Match"
      ]
     },
     "execution_count": 12,
     "metadata": {},
     "output_type": "execute_result"
    }
   ],
   "source": [
    "type(match)\n",
    "# re.Match"
   ]
  },
  {
   "cell_type": "code",
   "execution_count": 24,
   "id": "5f492135",
   "metadata": {},
   "outputs": [
    {
     "data": {
      "text/plain": [
       "(0, 5)"
      ]
     },
     "execution_count": 24,
     "metadata": {},
     "output_type": "execute_result"
    }
   ],
   "source": [
    "match.span()"
   ]
  },
  {
   "cell_type": "code",
   "execution_count": 17,
   "id": "3027ee07",
   "metadata": {},
   "outputs": [
    {
     "data": {
      "text/plain": [
       "True"
      ]
     },
     "execution_count": 17,
     "metadata": {},
     "output_type": "execute_result"
    }
   ],
   "source": [
    "abc = pattern.match(\"Hello World\")\n",
    "abc == None # if no match found then var == None becomes True"
   ]
  },
  {
   "cell_type": "code",
   "execution_count": 24,
   "id": "87e0e84e",
   "metadata": {},
   "outputs": [
    {
     "data": {
      "text/plain": [
       "False"
      ]
     },
     "execution_count": 24,
     "metadata": {},
     "output_type": "execute_result"
    }
   ],
   "source": [
    "test = pattern.match(\"World hello\", pos=6, endpos=11)\n",
    "test == None"
   ]
  },
  {
   "cell_type": "markdown",
   "id": "00e3a7fa",
   "metadata": {},
   "source": [
    "## Search()\n",
    "- A match is checking through out the string\n",
    "- same behavoiur of pos and endpos as match() function\n",
    "- Returns None if no match found\n",
    "- If a match i found, a match object is returned"
   ]
  },
  {
   "cell_type": "code",
   "execution_count": 30,
   "id": "74b3ae7d",
   "metadata": {},
   "outputs": [
    {
     "data": {
      "text/plain": [
       "<re.Match object; span=(4, 9), match='hello'>"
      ]
     },
     "execution_count": 30,
     "metadata": {},
     "output_type": "execute_result"
    }
   ],
   "source": [
    "pattern.search(\"say hello\")"
   ]
  },
  {
   "cell_type": "markdown",
   "id": "29c440c7",
   "metadata": {},
   "source": [
    "## findall(string, pos, endpos)\n",
    "- Finds all non-overlapping substrings where the match is found and returns them as a list\n",
    "- same behaviourof the pos and endpos"
   ]
  },
  {
   "cell_type": "code",
   "execution_count": 32,
   "id": "0ffca272",
   "metadata": {},
   "outputs": [
    {
     "data": {
      "text/plain": [
       "['hello', 'hello']"
      ]
     },
     "execution_count": 32,
     "metadata": {},
     "output_type": "execute_result"
    }
   ],
   "source": [
    "pattern.findall(\"say hello hello\")"
   ]
  },
  {
   "cell_type": "code",
   "execution_count": 33,
   "id": "c65eb695",
   "metadata": {},
   "outputs": [],
   "source": [
    "pattern = re.compile(\"\\d\")"
   ]
  },
  {
   "cell_type": "code",
   "execution_count": 35,
   "id": "95bb2c04",
   "metadata": {},
   "outputs": [
    {
     "data": {
      "text/plain": [
       "['1', '2', '3', '4', '5']"
      ]
     },
     "execution_count": 35,
     "metadata": {},
     "output_type": "execute_result"
    }
   ],
   "source": [
    "pattern.findall(\"1, 2, 3, 4, 5\")"
   ]
  },
  {
   "cell_type": "markdown",
   "id": "f50aa9cd",
   "metadata": {},
   "source": [
    "## finditer(string, pos, endpos)\n",
    "- Finds all non-overlapping substrings where the match is found and returns then as an iterator of the Match object\n",
    "- same behavoiur of pos and endposs the match(), search() and findall() function"
   ]
  },
  {
   "cell_type": "code",
   "execution_count": 36,
   "id": "a0e38f5b",
   "metadata": {},
   "outputs": [],
   "source": [
    "pattern = re.compile(\"hello\")"
   ]
  },
  {
   "cell_type": "code",
   "execution_count": 38,
   "id": "b5fe30ff",
   "metadata": {},
   "outputs": [],
   "source": [
    "match_iter = pattern.finditer(\"say hello hello\")"
   ]
  },
  {
   "cell_type": "code",
   "execution_count": 39,
   "id": "988f382f",
   "metadata": {},
   "outputs": [
    {
     "data": {
      "text/plain": [
       "callable_iterator"
      ]
     },
     "execution_count": 39,
     "metadata": {},
     "output_type": "execute_result"
    }
   ],
   "source": [
    "type(match_iter)"
   ]
  },
  {
   "cell_type": "code",
   "execution_count": 40,
   "id": "50c92b49",
   "metadata": {},
   "outputs": [
    {
     "data": {
      "text/plain": [
       "<re.Match object; span=(4, 9), match='hello'>"
      ]
     },
     "execution_count": 40,
     "metadata": {},
     "output_type": "execute_result"
    }
   ],
   "source": [
    "next(match_iter)"
   ]
  },
  {
   "cell_type": "code",
   "execution_count": 41,
   "id": "f4ea33b0",
   "metadata": {},
   "outputs": [
    {
     "name": "stdout",
     "output_type": "stream",
     "text": [
      "<re.Match object; span=(4, 9), match='hello'>\n",
      "<re.Match object; span=(10, 15), match='hello'>\n"
     ]
    }
   ],
   "source": [
    "matches = pattern.finditer(\"say hello hello\")\n",
    "for match in matches:\n",
    "    print(match)"
   ]
  },
  {
   "cell_type": "code",
   "execution_count": 42,
   "id": "66741d9e",
   "metadata": {},
   "outputs": [],
   "source": [
    "# module "
   ]
  },
  {
   "cell_type": "code",
   "execution_count": 47,
   "id": "200c8e95",
   "metadata": {},
   "outputs": [
    {
     "name": "stdout",
     "output_type": "stream",
     "text": [
      "<re.Match object; span=(0, 5), match='hello'>\n",
      "<re.Match object; span=(0, 5), match='hello'>\n",
      "['hello']\n",
      "<callable_iterator object at 0x000001CD97C0EA30>\n"
     ]
    }
   ],
   "source": [
    "print(re.match(\"hello\", \"hello World\"))\n",
    "print(re.search(\"hello\", \"hello World\"))\n",
    "print(re.findall(\"hello\", \"hello World\"))\n",
    "print(re.finditer(\"hello\", \"hello World\"))"
   ]
  },
  {
   "cell_type": "markdown",
   "id": "d6431c3e",
   "metadata": {},
   "source": [
    "## Examples"
   ]
  },
  {
   "cell_type": "markdown",
   "id": "7e9fe847",
   "metadata": {},
   "source": [
    "### search\n",
    "- Search $15 \n",
    "- and \n",
    "- txt = \"This book costs $15\""
   ]
  },
  {
   "cell_type": "code",
   "execution_count": 55,
   "id": "15d38ff0",
   "metadata": {},
   "outputs": [
    {
     "data": {
      "text/plain": [
       "True"
      ]
     },
     "execution_count": 55,
     "metadata": {},
     "output_type": "execute_result"
    }
   ],
   "source": [
    "txt = \"This book costs $15\"\n",
    "pattern = re.compile(\"$15\")\n",
    "pattern.search(txt) == None"
   ]
  },
  {
   "cell_type": "markdown",
   "id": "0c1f2837",
   "metadata": {},
   "source": [
    "## Why not match\n",
    "- $ is meta character. thats why it is not matching\n",
    "- In order to treat a meta character like a literal, you need to escape it using \\character"
   ]
  },
  {
   "cell_type": "code",
   "execution_count": 58,
   "id": "eceaacaf",
   "metadata": {},
   "outputs": [
    {
     "data": {
      "text/plain": [
       "False"
      ]
     },
     "execution_count": 58,
     "metadata": {},
     "output_type": "execute_result"
    }
   ],
   "source": [
    "# meta character => \\, ^, $, |, ?, *, +, (, ), [, {\n",
    "txt = \"This book costs $15\"\n",
    "pattern = re.compile(\"\\$15\")\n",
    "pattern.search(txt) == None"
   ]
  },
  {
   "cell_type": "code",
   "execution_count": null,
   "id": "6a4f2e60",
   "metadata": {},
   "outputs": [],
   "source": []
  }
 ],
 "metadata": {
  "kernelspec": {
   "display_name": "Python 3 (ipykernel)",
   "language": "python",
   "name": "python3"
  },
  "language_info": {
   "codemirror_mode": {
    "name": "ipython",
    "version": 3
   },
   "file_extension": ".py",
   "mimetype": "text/x-python",
   "name": "python",
   "nbconvert_exporter": "python",
   "pygments_lexer": "ipython3",
   "version": "3.9.13"
  }
 },
 "nbformat": 4,
 "nbformat_minor": 5
}
