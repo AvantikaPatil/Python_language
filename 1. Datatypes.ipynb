{
 "cells": [
  {
   "cell_type": "code",
   "execution_count": 3,
   "id": "7d666a88",
   "metadata": {},
   "outputs": [],
   "source": [
    "i = 10"
   ]
  },
  {
   "cell_type": "code",
   "execution_count": 4,
   "id": "8b7783ee",
   "metadata": {},
   "outputs": [
    {
     "data": {
      "text/plain": [
       "int"
      ]
     },
     "execution_count": 4,
     "metadata": {},
     "output_type": "execute_result"
    }
   ],
   "source": [
    "type(i)"
   ]
  },
  {
   "cell_type": "code",
   "execution_count": 5,
   "id": "16df1c03",
   "metadata": {},
   "outputs": [
    {
     "data": {
      "text/plain": [
       "2073846901328"
      ]
     },
     "execution_count": 5,
     "metadata": {},
     "output_type": "execute_result"
    }
   ],
   "source": [
    "id(i)"
   ]
  },
  {
   "cell_type": "code",
   "execution_count": 6,
   "id": "3cb5947e",
   "metadata": {},
   "outputs": [
    {
     "data": {
      "text/plain": [
       "10"
      ]
     },
     "execution_count": 6,
     "metadata": {},
     "output_type": "execute_result"
    }
   ],
   "source": [
    "i"
   ]
  },
  {
   "cell_type": "code",
   "execution_count": 7,
   "id": "1ed8115d",
   "metadata": {},
   "outputs": [
    {
     "name": "stdout",
     "output_type": "stream",
     "text": [
      "10\n"
     ]
    }
   ],
   "source": [
    "print(i)"
   ]
  },
  {
   "cell_type": "markdown",
   "id": "63f4d540",
   "metadata": {},
   "source": [
    "# String\n",
    "- String is collection of character\n",
    "- Defined either by double or single quotes\n",
    "- Inmutable"
   ]
  },
  {
   "cell_type": "code",
   "execution_count": 8,
   "id": "c90dda71",
   "metadata": {},
   "outputs": [],
   "source": [
    "s = 'Welcome'"
   ]
  },
  {
   "cell_type": "code",
   "execution_count": 9,
   "id": "7bd09c41",
   "metadata": {},
   "outputs": [
    {
     "name": "stdout",
     "output_type": "stream",
     "text": [
      "<class 'str'>\n"
     ]
    }
   ],
   "source": [
    "print(type(s))"
   ]
  },
  {
   "cell_type": "code",
   "execution_count": 10,
   "id": "43468938",
   "metadata": {},
   "outputs": [
    {
     "data": {
      "text/plain": [
       "7"
      ]
     },
     "execution_count": 10,
     "metadata": {},
     "output_type": "execute_result"
    }
   ],
   "source": [
    "len(s)"
   ]
  },
  {
   "cell_type": "code",
   "execution_count": 11,
   "id": "b0aaca1a",
   "metadata": {},
   "outputs": [],
   "source": [
    "# len => for strings, lists, tuples, its internal function to python"
   ]
  },
  {
   "cell_type": "markdown",
   "id": "ea522a71",
   "metadata": {},
   "source": [
    "# INDEXING"
   ]
  },
  {
   "cell_type": "code",
   "execution_count": 13,
   "id": "4aadf7b5",
   "metadata": {},
   "outputs": [
    {
     "data": {
      "text/plain": [
       "'W'"
      ]
     },
     "execution_count": 13,
     "metadata": {},
     "output_type": "execute_result"
    }
   ],
   "source": [
    "s[0]"
   ]
  },
  {
   "cell_type": "code",
   "execution_count": 14,
   "id": "d78f663e",
   "metadata": {},
   "outputs": [
    {
     "data": {
      "text/plain": [
       "'c'"
      ]
     },
     "execution_count": 14,
     "metadata": {},
     "output_type": "execute_result"
    }
   ],
   "source": [
    "s[3]"
   ]
  },
  {
   "cell_type": "code",
   "execution_count": 15,
   "id": "e3d86267",
   "metadata": {},
   "outputs": [
    {
     "ename": "IndexError",
     "evalue": "string index out of range",
     "output_type": "error",
     "traceback": [
      "\u001b[1;31m---------------------------------------------------------------------------\u001b[0m",
      "\u001b[1;31mIndexError\u001b[0m                                Traceback (most recent call last)",
      "\u001b[1;32m~\\AppData\\Local\\Temp\\ipykernel_10524\\83291243.py\u001b[0m in \u001b[0;36m<module>\u001b[1;34m\u001b[0m\n\u001b[1;32m----> 1\u001b[1;33m \u001b[0ms\u001b[0m\u001b[1;33m[\u001b[0m\u001b[1;36m7\u001b[0m\u001b[1;33m]\u001b[0m\u001b[1;33m\u001b[0m\u001b[1;33m\u001b[0m\u001b[0m\n\u001b[0m",
      "\u001b[1;31mIndexError\u001b[0m: string index out of range"
     ]
    }
   ],
   "source": [
    "s[7]"
   ]
  },
  {
   "cell_type": "markdown",
   "id": "8f4bfee8",
   "metadata": {},
   "source": [
    "## negative indexing "
   ]
  },
  {
   "cell_type": "code",
   "execution_count": 16,
   "id": "69fbc6b9",
   "metadata": {},
   "outputs": [
    {
     "data": {
      "text/plain": [
       "'e'"
      ]
     },
     "execution_count": 16,
     "metadata": {},
     "output_type": "execute_result"
    }
   ],
   "source": [
    "s[-1]"
   ]
  },
  {
   "cell_type": "markdown",
   "id": "dcf8245d",
   "metadata": {},
   "source": [
    "# Slicing\n",
    "- Extracts a substring from a string\n",
    "- Syntax : startpos:endpos:skip count/direction\n",
    "- startpos- included, endpos - excluded"
   ]
  },
  {
   "cell_type": "code",
   "execution_count": 18,
   "id": "41c4bdb7",
   "metadata": {},
   "outputs": [
    {
     "data": {
      "text/plain": [
       "'Wel'"
      ]
     },
     "execution_count": 18,
     "metadata": {},
     "output_type": "execute_result"
    }
   ],
   "source": [
    "s[0:3]"
   ]
  },
  {
   "cell_type": "code",
   "execution_count": 19,
   "id": "3ec4fc84",
   "metadata": {},
   "outputs": [
    {
     "data": {
      "text/plain": [
       "'come'"
      ]
     },
     "execution_count": 19,
     "metadata": {},
     "output_type": "execute_result"
    }
   ],
   "source": [
    "s[3:8]"
   ]
  },
  {
   "cell_type": "code",
   "execution_count": 20,
   "id": "98f5ccc4",
   "metadata": {},
   "outputs": [
    {
     "data": {
      "text/plain": [
       "'come'"
      ]
     },
     "execution_count": 20,
     "metadata": {},
     "output_type": "execute_result"
    }
   ],
   "source": [
    "s[3:]"
   ]
  },
  {
   "cell_type": "code",
   "execution_count": 21,
   "id": "9d5fbe64",
   "metadata": {},
   "outputs": [
    {
     "data": {
      "text/plain": [
       "'Wel'"
      ]
     },
     "execution_count": 21,
     "metadata": {},
     "output_type": "execute_result"
    }
   ],
   "source": [
    "s[:3]"
   ]
  },
  {
   "cell_type": "code",
   "execution_count": 22,
   "id": "2266ca4e",
   "metadata": {},
   "outputs": [
    {
     "data": {
      "text/plain": [
       "'Welcome'"
      ]
     },
     "execution_count": 22,
     "metadata": {},
     "output_type": "execute_result"
    }
   ],
   "source": [
    "s[:]"
   ]
  },
  {
   "cell_type": "code",
   "execution_count": 23,
   "id": "7142545c",
   "metadata": {},
   "outputs": [
    {
     "data": {
      "text/plain": [
       "'Welcome'"
      ]
     },
     "execution_count": 23,
     "metadata": {},
     "output_type": "execute_result"
    }
   ],
   "source": [
    "s"
   ]
  },
  {
   "cell_type": "code",
   "execution_count": 24,
   "id": "09db662c",
   "metadata": {},
   "outputs": [
    {
     "data": {
      "text/plain": [
       "'om'"
      ]
     },
     "execution_count": 24,
     "metadata": {},
     "output_type": "execute_result"
    }
   ],
   "source": [
    "s[-3:-1]"
   ]
  },
  {
   "cell_type": "code",
   "execution_count": 25,
   "id": "7a9ba70e",
   "metadata": {},
   "outputs": [
    {
     "data": {
      "text/plain": [
       "'Wloe'"
      ]
     },
     "execution_count": 25,
     "metadata": {},
     "output_type": "execute_result"
    }
   ],
   "source": [
    "s[::2]"
   ]
  },
  {
   "cell_type": "code",
   "execution_count": 26,
   "id": "687e004d",
   "metadata": {},
   "outputs": [
    {
     "data": {
      "text/plain": [
       "''"
      ]
     },
     "execution_count": 26,
     "metadata": {},
     "output_type": "execute_result"
    }
   ],
   "source": [
    "s[-1:-3]"
   ]
  },
  {
   "cell_type": "code",
   "execution_count": 27,
   "id": "16fab792",
   "metadata": {},
   "outputs": [
    {
     "data": {
      "text/plain": [
       "'emocleW'"
      ]
     },
     "execution_count": 27,
     "metadata": {},
     "output_type": "execute_result"
    }
   ],
   "source": [
    "s[::-1]"
   ]
  },
  {
   "cell_type": "code",
   "execution_count": 28,
   "id": "6c65d901",
   "metadata": {},
   "outputs": [
    {
     "data": {
      "text/plain": [
       "'welcome'"
      ]
     },
     "execution_count": 28,
     "metadata": {},
     "output_type": "execute_result"
    }
   ],
   "source": [
    "s.replace(\"W\", \"w\")"
   ]
  },
  {
   "cell_type": "code",
   "execution_count": 29,
   "id": "d6753756",
   "metadata": {},
   "outputs": [
    {
     "data": {
      "text/plain": [
       "2"
      ]
     },
     "execution_count": 29,
     "metadata": {},
     "output_type": "execute_result"
    }
   ],
   "source": [
    "# for check index\n",
    "s.index(\"l\")"
   ]
  },
  {
   "cell_type": "code",
   "execution_count": null,
   "id": "e7bdd451",
   "metadata": {},
   "outputs": [],
   "source": [
    "# use shift+tab+tab => to check datail info about any mothods/function or any syntax"
   ]
  },
  {
   "cell_type": "code",
   "execution_count": 30,
   "id": "9250e51e",
   "metadata": {},
   "outputs": [],
   "source": [
    "# Concatenation "
   ]
  },
  {
   "cell_type": "code",
   "execution_count": 31,
   "id": "7981760c",
   "metadata": {},
   "outputs": [
    {
     "ename": "TypeError",
     "evalue": "can only concatenate str (not \"int\") to str",
     "output_type": "error",
     "traceback": [
      "\u001b[1;31m---------------------------------------------------------------------------\u001b[0m",
      "\u001b[1;31mTypeError\u001b[0m                                 Traceback (most recent call last)",
      "\u001b[1;32m~\\AppData\\Local\\Temp\\ipykernel_10524\\2035870851.py\u001b[0m in \u001b[0;36m<module>\u001b[1;34m\u001b[0m\n\u001b[1;32m----> 1\u001b[1;33m \u001b[0ms\u001b[0m \u001b[1;33m+\u001b[0m \u001b[1;36m10\u001b[0m\u001b[1;33m\u001b[0m\u001b[1;33m\u001b[0m\u001b[0m\n\u001b[0m",
      "\u001b[1;31mTypeError\u001b[0m: can only concatenate str (not \"int\") to str"
     ]
    }
   ],
   "source": [
    "s + 10"
   ]
  },
  {
   "cell_type": "code",
   "execution_count": 33,
   "id": "09a97e66",
   "metadata": {},
   "outputs": [
    {
     "data": {
      "text/plain": [
       "'Welcome Students'"
      ]
     },
     "execution_count": 33,
     "metadata": {},
     "output_type": "execute_result"
    }
   ],
   "source": [
    "t = \" Students\"\n",
    "s + t"
   ]
  },
  {
   "cell_type": "code",
   "execution_count": 34,
   "id": "e888c3be",
   "metadata": {},
   "outputs": [
    {
     "data": {
      "text/plain": [
       "'WelcomeWelcomeWelcome'"
      ]
     },
     "execution_count": 34,
     "metadata": {},
     "output_type": "execute_result"
    }
   ],
   "source": [
    "s * 3"
   ]
  },
  {
   "cell_type": "code",
   "execution_count": 35,
   "id": "16cff349",
   "metadata": {},
   "outputs": [
    {
     "data": {
      "text/plain": [
       "'Welcome10'"
      ]
     },
     "execution_count": 35,
     "metadata": {},
     "output_type": "execute_result"
    }
   ],
   "source": [
    "s + \"10\""
   ]
  },
  {
   "cell_type": "markdown",
   "id": "a6d05d51",
   "metadata": {},
   "source": [
    "# LISTS"
   ]
  },
  {
   "cell_type": "markdown",
   "id": "f48fa18b",
   "metadata": {},
   "source": [
    "- Ordered collection of objects/elements/items\n",
    "- []\n",
    "- Mutable"
   ]
  },
  {
   "cell_type": "code",
   "execution_count": 36,
   "id": "6ed587ef",
   "metadata": {},
   "outputs": [],
   "source": [
    "languages = [\"C\", \"CPP\", \"Java\", \"C#\"]"
   ]
  },
  {
   "cell_type": "code",
   "execution_count": 37,
   "id": "34eed853",
   "metadata": {},
   "outputs": [
    {
     "data": {
      "text/plain": [
       "['C', 'CPP', 'Java', 'C#']"
      ]
     },
     "execution_count": 37,
     "metadata": {},
     "output_type": "execute_result"
    }
   ],
   "source": [
    "languages"
   ]
  },
  {
   "cell_type": "code",
   "execution_count": 38,
   "id": "841fd9cd",
   "metadata": {},
   "outputs": [
    {
     "name": "stdout",
     "output_type": "stream",
     "text": [
      "['C', 'CPP', 'Java', 'C#']\n"
     ]
    }
   ],
   "source": [
    "print(languages)"
   ]
  },
  {
   "cell_type": "code",
   "execution_count": 39,
   "id": "c744085a",
   "metadata": {},
   "outputs": [
    {
     "data": {
      "text/plain": [
       "list"
      ]
     },
     "execution_count": 39,
     "metadata": {},
     "output_type": "execute_result"
    }
   ],
   "source": [
    "type(languages)"
   ]
  },
  {
   "cell_type": "code",
   "execution_count": 40,
   "id": "67ce1b21",
   "metadata": {},
   "outputs": [
    {
     "data": {
      "text/plain": [
       "'C'"
      ]
     },
     "execution_count": 40,
     "metadata": {},
     "output_type": "execute_result"
    }
   ],
   "source": [
    "languages[0]"
   ]
  },
  {
   "cell_type": "code",
   "execution_count": 42,
   "id": "4670cd19",
   "metadata": {},
   "outputs": [
    {
     "data": {
      "text/plain": [
       "'C#'"
      ]
     },
     "execution_count": 42,
     "metadata": {},
     "output_type": "execute_result"
    }
   ],
   "source": [
    "languages[-1]"
   ]
  },
  {
   "cell_type": "code",
   "execution_count": 43,
   "id": "d17ad2ea",
   "metadata": {},
   "outputs": [
    {
     "data": {
      "text/plain": [
       "['C', 'Java']"
      ]
     },
     "execution_count": 43,
     "metadata": {},
     "output_type": "execute_result"
    }
   ],
   "source": [
    "languages[::2]"
   ]
  },
  {
   "cell_type": "code",
   "execution_count": 45,
   "id": "f74c67d8",
   "metadata": {},
   "outputs": [
    {
     "data": {
      "text/plain": [
       "2"
      ]
     },
     "execution_count": 45,
     "metadata": {},
     "output_type": "execute_result"
    }
   ],
   "source": [
    "languages.index(\"Java\")"
   ]
  },
  {
   "cell_type": "code",
   "execution_count": 46,
   "id": "f032c527",
   "metadata": {},
   "outputs": [
    {
     "data": {
      "text/plain": [
       "['C', 'CPP', 'Java', ['python', 'scipy', 'pandas']]"
      ]
     },
     "execution_count": 46,
     "metadata": {},
     "output_type": "execute_result"
    }
   ],
   "source": [
    "languages[3] = [\"python\", \"scipy\", \"pandas\"]\n",
    "languages"
   ]
  },
  {
   "cell_type": "code",
   "execution_count": 49,
   "id": "52635ed7",
   "metadata": {},
   "outputs": [
    {
     "data": {
      "text/plain": [
       "'p'"
      ]
     },
     "execution_count": 49,
     "metadata": {},
     "output_type": "execute_result"
    }
   ],
   "source": [
    "# if we want to check first letter in pandas\n",
    "languages[3][2][0]"
   ]
  },
  {
   "cell_type": "code",
   "execution_count": null,
   "id": "558ab6a9",
   "metadata": {},
   "outputs": [],
   "source": [
    "# Append\n",
    "# insert\n",
    "# remove\n",
    "# pop\n",
    "# sort\n",
    "# del\n",
    "# index\n",
    "# count"
   ]
  },
  {
   "cell_type": "code",
   "execution_count": 50,
   "id": "7446e9ac",
   "metadata": {},
   "outputs": [],
   "source": [
    "# float\n",
    "f = 3.142"
   ]
  },
  {
   "cell_type": "code",
   "execution_count": 51,
   "id": "034c1931",
   "metadata": {},
   "outputs": [],
   "source": [
    "num=10"
   ]
  },
  {
   "cell_type": "code",
   "execution_count": 52,
   "id": "7fae90da",
   "metadata": {},
   "outputs": [
    {
     "data": {
      "text/plain": [
       "int"
      ]
     },
     "execution_count": 52,
     "metadata": {},
     "output_type": "execute_result"
    }
   ],
   "source": [
    "type(num)"
   ]
  },
  {
   "cell_type": "code",
   "execution_count": 53,
   "id": "2b682cc2",
   "metadata": {},
   "outputs": [],
   "source": [
    "s = 'welcome'"
   ]
  },
  {
   "cell_type": "code",
   "execution_count": 54,
   "id": "fd5d37b1",
   "metadata": {},
   "outputs": [
    {
     "data": {
      "text/plain": [
       "str"
      ]
     },
     "execution_count": 54,
     "metadata": {},
     "output_type": "execute_result"
    }
   ],
   "source": [
    "type(s)"
   ]
  },
  {
   "cell_type": "code",
   "execution_count": 55,
   "id": "7b3ba3cb",
   "metadata": {},
   "outputs": [],
   "source": [
    "a = True"
   ]
  },
  {
   "cell_type": "code",
   "execution_count": 56,
   "id": "266427f0",
   "metadata": {},
   "outputs": [
    {
     "data": {
      "text/plain": [
       "bool"
      ]
     },
     "execution_count": 56,
     "metadata": {},
     "output_type": "execute_result"
    }
   ],
   "source": [
    "type(a)"
   ]
  },
  {
   "cell_type": "code",
   "execution_count": 57,
   "id": "84c87f3f",
   "metadata": {},
   "outputs": [],
   "source": [
    "a = 3 + 2j"
   ]
  },
  {
   "cell_type": "code",
   "execution_count": 58,
   "id": "6f2a836d",
   "metadata": {},
   "outputs": [
    {
     "data": {
      "text/plain": [
       "complex"
      ]
     },
     "execution_count": 58,
     "metadata": {},
     "output_type": "execute_result"
    }
   ],
   "source": [
    "type(a)"
   ]
  },
  {
   "cell_type": "code",
   "execution_count": 59,
   "id": "765cbdc1",
   "metadata": {},
   "outputs": [
    {
     "data": {
      "text/plain": [
       "12"
      ]
     },
     "execution_count": 59,
     "metadata": {},
     "output_type": "execute_result"
    }
   ],
   "source": [
    "# Addition\n",
    "8 + 4"
   ]
  },
  {
   "cell_type": "code",
   "execution_count": 60,
   "id": "e68e6696",
   "metadata": {},
   "outputs": [
    {
     "data": {
      "text/plain": [
       "10"
      ]
     },
     "execution_count": 60,
     "metadata": {},
     "output_type": "execute_result"
    }
   ],
   "source": [
    "# Subtraction\n",
    "18 - 8"
   ]
  },
  {
   "cell_type": "code",
   "execution_count": 61,
   "id": "db9884f4",
   "metadata": {},
   "outputs": [
    {
     "data": {
      "text/plain": [
       "20"
      ]
     },
     "execution_count": 61,
     "metadata": {},
     "output_type": "execute_result"
    }
   ],
   "source": [
    "# Multiplication\n",
    "4 * 5"
   ]
  },
  {
   "cell_type": "code",
   "execution_count": 62,
   "id": "8ec60442",
   "metadata": {},
   "outputs": [
    {
     "data": {
      "text/plain": [
       "6.0"
      ]
     },
     "execution_count": 62,
     "metadata": {},
     "output_type": "execute_result"
    }
   ],
   "source": [
    "# Division\n",
    "18 / 3"
   ]
  },
  {
   "cell_type": "code",
   "execution_count": 63,
   "id": "7f080084",
   "metadata": {},
   "outputs": [
    {
     "data": {
      "text/plain": [
       "4"
      ]
     },
     "execution_count": 63,
     "metadata": {},
     "output_type": "execute_result"
    }
   ],
   "source": [
    "18 // 4"
   ]
  },
  {
   "cell_type": "code",
   "execution_count": 64,
   "id": "cf87866d",
   "metadata": {},
   "outputs": [
    {
     "data": {
      "text/plain": [
       "2"
      ]
     },
     "execution_count": 64,
     "metadata": {},
     "output_type": "execute_result"
    }
   ],
   "source": [
    "18 % 4"
   ]
  },
  {
   "cell_type": "markdown",
   "id": "d412e07a",
   "metadata": {},
   "source": [
    "List Operations"
   ]
  },
  {
   "cell_type": "markdown",
   "id": "46f1bfc0",
   "metadata": {},
   "source": [
    "# Append"
   ]
  },
  {
   "cell_type": "code",
   "execution_count": 65,
   "id": "9a3c44bc",
   "metadata": {},
   "outputs": [],
   "source": [
    "# Always adds an element/object at the end of the list"
   ]
  },
  {
   "cell_type": "code",
   "execution_count": 70,
   "id": "54dda033",
   "metadata": {},
   "outputs": [],
   "source": [
    "languages = [\"CPP\", \"Java\", \"C#\"]"
   ]
  },
  {
   "cell_type": "code",
   "execution_count": 72,
   "id": "4bd2b3de",
   "metadata": {},
   "outputs": [
    {
     "data": {
      "text/plain": [
       "list"
      ]
     },
     "execution_count": 72,
     "metadata": {},
     "output_type": "execute_result"
    }
   ],
   "source": [
    "type(languages)"
   ]
  },
  {
   "cell_type": "code",
   "execution_count": 75,
   "id": "0aa419fb",
   "metadata": {},
   "outputs": [],
   "source": [
    "languages.append(\"Python\")"
   ]
  },
  {
   "cell_type": "code",
   "execution_count": 76,
   "id": "a553da12",
   "metadata": {},
   "outputs": [
    {
     "data": {
      "text/plain": [
       "['CPP', 'Java', 'C#', 'Python', 'Python', 'Python']"
      ]
     },
     "execution_count": 76,
     "metadata": {},
     "output_type": "execute_result"
    }
   ],
   "source": [
    "languages"
   ]
  },
  {
   "cell_type": "markdown",
   "id": "3fb1c54f",
   "metadata": {},
   "source": [
    "# Insert\n",
    "- inserts an element/object at specified index"
   ]
  },
  {
   "cell_type": "code",
   "execution_count": 77,
   "id": "98992f8b",
   "metadata": {},
   "outputs": [],
   "source": [
    "languages.insert(1, \"Perl\")"
   ]
  },
  {
   "cell_type": "code",
   "execution_count": 78,
   "id": "8f061285",
   "metadata": {},
   "outputs": [
    {
     "data": {
      "text/plain": [
       "['CPP', 'Perl', 'Java', 'C#', 'Python', 'Python', 'Python']"
      ]
     },
     "execution_count": 78,
     "metadata": {},
     "output_type": "execute_result"
    }
   ],
   "source": [
    "languages"
   ]
  },
  {
   "cell_type": "code",
   "execution_count": 79,
   "id": "62cdcdad",
   "metadata": {},
   "outputs": [
    {
     "name": "stdout",
     "output_type": "stream",
     "text": [
      "Help on class list in module builtins:\n",
      "\n",
      "class list(object)\n",
      " |  list(iterable=(), /)\n",
      " |  \n",
      " |  Built-in mutable sequence.\n",
      " |  \n",
      " |  If no argument is given, the constructor creates a new empty list.\n",
      " |  The argument must be an iterable if specified.\n",
      " |  \n",
      " |  Methods defined here:\n",
      " |  \n",
      " |  __add__(self, value, /)\n",
      " |      Return self+value.\n",
      " |  \n",
      " |  __contains__(self, key, /)\n",
      " |      Return key in self.\n",
      " |  \n",
      " |  __delitem__(self, key, /)\n",
      " |      Delete self[key].\n",
      " |  \n",
      " |  __eq__(self, value, /)\n",
      " |      Return self==value.\n",
      " |  \n",
      " |  __ge__(self, value, /)\n",
      " |      Return self>=value.\n",
      " |  \n",
      " |  __getattribute__(self, name, /)\n",
      " |      Return getattr(self, name).\n",
      " |  \n",
      " |  __getitem__(...)\n",
      " |      x.__getitem__(y) <==> x[y]\n",
      " |  \n",
      " |  __gt__(self, value, /)\n",
      " |      Return self>value.\n",
      " |  \n",
      " |  __iadd__(self, value, /)\n",
      " |      Implement self+=value.\n",
      " |  \n",
      " |  __imul__(self, value, /)\n",
      " |      Implement self*=value.\n",
      " |  \n",
      " |  __init__(self, /, *args, **kwargs)\n",
      " |      Initialize self.  See help(type(self)) for accurate signature.\n",
      " |  \n",
      " |  __iter__(self, /)\n",
      " |      Implement iter(self).\n",
      " |  \n",
      " |  __le__(self, value, /)\n",
      " |      Return self<=value.\n",
      " |  \n",
      " |  __len__(self, /)\n",
      " |      Return len(self).\n",
      " |  \n",
      " |  __lt__(self, value, /)\n",
      " |      Return self<value.\n",
      " |  \n",
      " |  __mul__(self, value, /)\n",
      " |      Return self*value.\n",
      " |  \n",
      " |  __ne__(self, value, /)\n",
      " |      Return self!=value.\n",
      " |  \n",
      " |  __repr__(self, /)\n",
      " |      Return repr(self).\n",
      " |  \n",
      " |  __reversed__(self, /)\n",
      " |      Return a reverse iterator over the list.\n",
      " |  \n",
      " |  __rmul__(self, value, /)\n",
      " |      Return value*self.\n",
      " |  \n",
      " |  __setitem__(self, key, value, /)\n",
      " |      Set self[key] to value.\n",
      " |  \n",
      " |  __sizeof__(self, /)\n",
      " |      Return the size of the list in memory, in bytes.\n",
      " |  \n",
      " |  append(self, object, /)\n",
      " |      Append object to the end of the list.\n",
      " |  \n",
      " |  clear(self, /)\n",
      " |      Remove all items from list.\n",
      " |  \n",
      " |  copy(self, /)\n",
      " |      Return a shallow copy of the list.\n",
      " |  \n",
      " |  count(self, value, /)\n",
      " |      Return number of occurrences of value.\n",
      " |  \n",
      " |  extend(self, iterable, /)\n",
      " |      Extend list by appending elements from the iterable.\n",
      " |  \n",
      " |  index(self, value, start=0, stop=9223372036854775807, /)\n",
      " |      Return first index of value.\n",
      " |      \n",
      " |      Raises ValueError if the value is not present.\n",
      " |  \n",
      " |  insert(self, index, object, /)\n",
      " |      Insert object before index.\n",
      " |  \n",
      " |  pop(self, index=-1, /)\n",
      " |      Remove and return item at index (default last).\n",
      " |      \n",
      " |      Raises IndexError if list is empty or index is out of range.\n",
      " |  \n",
      " |  remove(self, value, /)\n",
      " |      Remove first occurrence of value.\n",
      " |      \n",
      " |      Raises ValueError if the value is not present.\n",
      " |  \n",
      " |  reverse(self, /)\n",
      " |      Reverse *IN PLACE*.\n",
      " |  \n",
      " |  sort(self, /, *, key=None, reverse=False)\n",
      " |      Sort the list in ascending order and return None.\n",
      " |      \n",
      " |      The sort is in-place (i.e. the list itself is modified) and stable (i.e. the\n",
      " |      order of two equal elements is maintained).\n",
      " |      \n",
      " |      If a key function is given, apply it once to each list item and sort them,\n",
      " |      ascending or descending, according to their function values.\n",
      " |      \n",
      " |      The reverse flag can be set to sort in descending order.\n",
      " |  \n",
      " |  ----------------------------------------------------------------------\n",
      " |  Class methods defined here:\n",
      " |  \n",
      " |  __class_getitem__(...) from builtins.type\n",
      " |      See PEP 585\n",
      " |  \n",
      " |  ----------------------------------------------------------------------\n",
      " |  Static methods defined here:\n",
      " |  \n",
      " |  __new__(*args, **kwargs) from builtins.type\n",
      " |      Create and return a new object.  See help(type) for accurate signature.\n",
      " |  \n",
      " |  ----------------------------------------------------------------------\n",
      " |  Data and other attributes defined here:\n",
      " |  \n",
      " |  __hash__ = None\n",
      "\n"
     ]
    }
   ],
   "source": [
    "help(list)"
   ]
  },
  {
   "cell_type": "code",
   "execution_count": 80,
   "id": "19cb15ae",
   "metadata": {},
   "outputs": [],
   "source": [
    "languages.insert(-1, \"Ruby\")"
   ]
  },
  {
   "cell_type": "markdown",
   "id": "4474dcc8",
   "metadata": {},
   "source": [
    "# languages"
   ]
  },
  {
   "cell_type": "code",
   "execution_count": 82,
   "id": "1b1d7173",
   "metadata": {},
   "outputs": [
    {
     "name": "stdout",
     "output_type": "stream",
     "text": [
      "Help on method_descriptor:\n",
      "\n",
      "index(self, value, start=0, stop=9223372036854775807, /)\n",
      "    Return first index of value.\n",
      "    \n",
      "    Raises ValueError if the value is not present.\n",
      "\n"
     ]
    }
   ],
   "source": [
    "help(list.index)"
   ]
  },
  {
   "cell_type": "markdown",
   "id": "02c2ec9b",
   "metadata": {},
   "source": [
    "## Remove\n",
    "- remove an elements based on value"
   ]
  },
  {
   "cell_type": "code",
   "execution_count": 84,
   "id": "a960f2a7",
   "metadata": {},
   "outputs": [],
   "source": [
    "languages.remove(\"Python\")"
   ]
  },
  {
   "cell_type": "code",
   "execution_count": 85,
   "id": "76ac52e8",
   "metadata": {},
   "outputs": [
    {
     "data": {
      "text/plain": [
       "['CPP', 'Perl', 'Java', 'C#', 'Python', 'Ruby', 'Python']"
      ]
     },
     "execution_count": 85,
     "metadata": {},
     "output_type": "execute_result"
    }
   ],
   "source": [
    "languages"
   ]
  },
  {
   "cell_type": "markdown",
   "id": "2777fe73",
   "metadata": {},
   "source": [
    "# pop\n",
    "- Removes an element based on index, by default index is -1"
   ]
  },
  {
   "cell_type": "code",
   "execution_count": 86,
   "id": "0f8e3de4",
   "metadata": {},
   "outputs": [
    {
     "data": {
      "text/plain": [
       "'Python'"
      ]
     },
     "execution_count": 86,
     "metadata": {},
     "output_type": "execute_result"
    }
   ],
   "source": [
    "# pop function, remove last element by default. \n",
    "languages.pop(-1)"
   ]
  },
  {
   "cell_type": "code",
   "execution_count": 87,
   "id": "f1db22b1",
   "metadata": {},
   "outputs": [
    {
     "data": {
      "text/plain": [
       "['CPP', 'Perl', 'Java', 'C#', 'Python', 'Ruby']"
      ]
     },
     "execution_count": 87,
     "metadata": {},
     "output_type": "execute_result"
    }
   ],
   "source": [
    "languages"
   ]
  },
  {
   "cell_type": "markdown",
   "id": "ef459605",
   "metadata": {},
   "source": [
    "# Using del keyword"
   ]
  },
  {
   "cell_type": "code",
   "execution_count": 88,
   "id": "699e5765",
   "metadata": {},
   "outputs": [],
   "source": [
    "languages.append(\"Rust\")"
   ]
  },
  {
   "cell_type": "code",
   "execution_count": null,
   "id": "c9c65be4",
   "metadata": {},
   "outputs": [],
   "source": [
    "languages.append(\"Scala\")"
   ]
  },
  {
   "cell_type": "code",
   "execution_count": 89,
   "id": "3e1dff16",
   "metadata": {},
   "outputs": [],
   "source": [
    "languages.append(\"JavaScript\")"
   ]
  },
  {
   "cell_type": "code",
   "execution_count": 90,
   "id": "d7269517",
   "metadata": {},
   "outputs": [
    {
     "data": {
      "text/plain": [
       "['CPP', 'Perl', 'Java', 'C#', 'Python', 'Ruby', 'Rust', 'JavaScript']"
      ]
     },
     "execution_count": 90,
     "metadata": {},
     "output_type": "execute_result"
    }
   ],
   "source": [
    "languages"
   ]
  },
  {
   "cell_type": "code",
   "execution_count": 91,
   "id": "44305635",
   "metadata": {},
   "outputs": [
    {
     "data": {
      "text/plain": [
       "8"
      ]
     },
     "execution_count": 91,
     "metadata": {},
     "output_type": "execute_result"
    }
   ],
   "source": [
    "len(languages)"
   ]
  },
  {
   "cell_type": "code",
   "execution_count": 92,
   "id": "b6b764fa",
   "metadata": {},
   "outputs": [],
   "source": [
    "del languages[2]"
   ]
  },
  {
   "cell_type": "code",
   "execution_count": 93,
   "id": "84fbec97",
   "metadata": {},
   "outputs": [
    {
     "data": {
      "text/plain": [
       "['CPP', 'Perl', 'C#', 'Python', 'Ruby', 'Rust', 'JavaScript']"
      ]
     },
     "execution_count": 93,
     "metadata": {},
     "output_type": "execute_result"
    }
   ],
   "source": [
    "languages"
   ]
  },
  {
   "cell_type": "code",
   "execution_count": 94,
   "id": "a609f9e6",
   "metadata": {},
   "outputs": [
    {
     "data": {
      "text/plain": [
       "['Perl', 'C#', 'Ruby', 'Rust']"
      ]
     },
     "execution_count": 94,
     "metadata": {},
     "output_type": "execute_result"
    }
   ],
   "source": [
    "del languages[::3]\n",
    "languages"
   ]
  },
  {
   "cell_type": "markdown",
   "id": "236d0043",
   "metadata": {},
   "source": [
    "# Append (Using list)"
   ]
  },
  {
   "cell_type": "code",
   "execution_count": 95,
   "id": "84e00f7d",
   "metadata": {},
   "outputs": [],
   "source": [
    "languages.append(\"VB\")\n",
    "languages.append(\"VC\")"
   ]
  },
  {
   "cell_type": "code",
   "execution_count": 96,
   "id": "f290d105",
   "metadata": {},
   "outputs": [
    {
     "data": {
      "text/plain": [
       "['Perl', 'C#', 'Ruby', 'Rust', 'VB', 'VC']"
      ]
     },
     "execution_count": 96,
     "metadata": {},
     "output_type": "execute_result"
    }
   ],
   "source": [
    "languages"
   ]
  },
  {
   "cell_type": "code",
   "execution_count": 99,
   "id": "6c5600df",
   "metadata": {},
   "outputs": [],
   "source": [
    "nums = [10, 20, 30]"
   ]
  },
  {
   "cell_type": "code",
   "execution_count": 100,
   "id": "10b5feca",
   "metadata": {},
   "outputs": [],
   "source": [
    "languages.append(nums)"
   ]
  },
  {
   "cell_type": "code",
   "execution_count": 101,
   "id": "dc7bf948",
   "metadata": {},
   "outputs": [
    {
     "data": {
      "text/plain": [
       "['Perl', 'C#', 'Ruby', 'Rust', 'VB', 'VC', [10, 20, 30]]"
      ]
     },
     "execution_count": 101,
     "metadata": {},
     "output_type": "execute_result"
    }
   ],
   "source": [
    "languages"
   ]
  },
  {
   "cell_type": "code",
   "execution_count": 103,
   "id": "1d6b73f3",
   "metadata": {},
   "outputs": [
    {
     "data": {
      "text/plain": [
       "10"
      ]
     },
     "execution_count": 103,
     "metadata": {},
     "output_type": "execute_result"
    }
   ],
   "source": [
    "languages[-1][0]"
   ]
  },
  {
   "cell_type": "code",
   "execution_count": 104,
   "id": "73f47ddc",
   "metadata": {},
   "outputs": [],
   "source": [
    "s = \"welcome\""
   ]
  },
  {
   "cell_type": "code",
   "execution_count": 105,
   "id": "8cf28c1a",
   "metadata": {},
   "outputs": [],
   "source": [
    "languages.append(s)"
   ]
  },
  {
   "cell_type": "code",
   "execution_count": 106,
   "id": "4a8630d9",
   "metadata": {},
   "outputs": [
    {
     "data": {
      "text/plain": [
       "['Perl', 'C#', 'Ruby', 'Rust', 'VB', 'VC', [10, 20, 30], 'welcome']"
      ]
     },
     "execution_count": 106,
     "metadata": {},
     "output_type": "execute_result"
    }
   ],
   "source": [
    "languages"
   ]
  },
  {
   "cell_type": "markdown",
   "id": "0cb47aaa",
   "metadata": {},
   "source": [
    "## Extend \n",
    "- Extends the list with elements of the container/object passed\n",
    "-increases the length by the length of the object used to extends"
   ]
  },
  {
   "cell_type": "code",
   "execution_count": 107,
   "id": "cc35310e",
   "metadata": {},
   "outputs": [],
   "source": [
    "another_list = [\"TCS\", \"INFY\", \"ISM\"]"
   ]
  },
  {
   "cell_type": "code",
   "execution_count": 109,
   "id": "f83098bc",
   "metadata": {},
   "outputs": [],
   "source": [
    "languages.extend(another_list)"
   ]
  },
  {
   "cell_type": "code",
   "execution_count": 110,
   "id": "32127ba7",
   "metadata": {},
   "outputs": [
    {
     "data": {
      "text/plain": [
       "['Perl',\n",
       " 'C#',\n",
       " 'Ruby',\n",
       " 'Rust',\n",
       " 'VB',\n",
       " 'VC',\n",
       " [10, 20, 30],\n",
       " 'welcome',\n",
       " 'TCS',\n",
       " 'INFY',\n",
       " 'ISM']"
      ]
     },
     "execution_count": 110,
     "metadata": {},
     "output_type": "execute_result"
    }
   ],
   "source": [
    "languages"
   ]
  },
  {
   "cell_type": "code",
   "execution_count": 111,
   "id": "c6949aab",
   "metadata": {},
   "outputs": [],
   "source": [
    "languages.extend(s)"
   ]
  },
  {
   "cell_type": "code",
   "execution_count": 112,
   "id": "40114d76",
   "metadata": {},
   "outputs": [
    {
     "data": {
      "text/plain": [
       "['Perl',\n",
       " 'C#',\n",
       " 'Ruby',\n",
       " 'Rust',\n",
       " 'VB',\n",
       " 'VC',\n",
       " [10, 20, 30],\n",
       " 'welcome',\n",
       " 'TCS',\n",
       " 'INFY',\n",
       " 'ISM',\n",
       " 'w',\n",
       " 'e',\n",
       " 'l',\n",
       " 'c',\n",
       " 'o',\n",
       " 'm',\n",
       " 'e']"
      ]
     },
     "execution_count": 112,
     "metadata": {},
     "output_type": "execute_result"
    }
   ],
   "source": [
    "languages"
   ]
  },
  {
   "cell_type": "code",
   "execution_count": 113,
   "id": "2f2d39a1",
   "metadata": {},
   "outputs": [
    {
     "data": {
      "text/plain": [
       "1"
      ]
     },
     "execution_count": 113,
     "metadata": {},
     "output_type": "execute_result"
    }
   ],
   "source": [
    "languages.count(\"VB\")"
   ]
  },
  {
   "cell_type": "code",
   "execution_count": 114,
   "id": "8f26c30c",
   "metadata": {},
   "outputs": [
    {
     "data": {
      "text/plain": [
       "8"
      ]
     },
     "execution_count": 114,
     "metadata": {},
     "output_type": "execute_result"
    }
   ],
   "source": [
    "languages.index(\"TCS\")"
   ]
  },
  {
   "cell_type": "code",
   "execution_count": 115,
   "id": "e534025a",
   "metadata": {},
   "outputs": [
    {
     "data": {
      "text/plain": [
       "12"
      ]
     },
     "execution_count": 115,
     "metadata": {},
     "output_type": "execute_result"
    }
   ],
   "source": [
    "languages.index(\"e\")"
   ]
  },
  {
   "cell_type": "code",
   "execution_count": 116,
   "id": "a8ee21fa",
   "metadata": {},
   "outputs": [
    {
     "data": {
      "text/plain": [
       "16"
      ]
     },
     "execution_count": 116,
     "metadata": {},
     "output_type": "execute_result"
    }
   ],
   "source": [
    "languages.index(\"m\")"
   ]
  },
  {
   "cell_type": "code",
   "execution_count": 120,
   "id": "c76d0c22",
   "metadata": {},
   "outputs": [
    {
     "data": {
      "text/plain": [
       "17"
      ]
     },
     "execution_count": 120,
     "metadata": {},
     "output_type": "execute_result"
    }
   ],
   "source": [
    "languages.index(\"e\", 13) # checking after 13th index"
   ]
  },
  {
   "cell_type": "markdown",
   "id": "929fa987",
   "metadata": {},
   "source": [
    "# Mutable vs Immutable"
   ]
  },
  {
   "cell_type": "code",
   "execution_count": 121,
   "id": "c11b895a",
   "metadata": {},
   "outputs": [
    {
     "data": {
      "text/plain": [
       "'welcome'"
      ]
     },
     "execution_count": 121,
     "metadata": {},
     "output_type": "execute_result"
    }
   ],
   "source": [
    "s"
   ]
  },
  {
   "cell_type": "code",
   "execution_count": null,
   "id": "cc5189ab",
   "metadata": {},
   "outputs": [],
   "source": [
    "languages = [\"Python\", \"perl\", \"Ruby\"]"
   ]
  },
  {
   "cell_type": "code",
   "execution_count": 122,
   "id": "4016b5a3",
   "metadata": {},
   "outputs": [
    {
     "data": {
      "text/plain": [
       "['Perl',\n",
       " 'C#',\n",
       " 'Ruby',\n",
       " 'Rust',\n",
       " 'VB',\n",
       " 'VC',\n",
       " [10, 20, 30],\n",
       " 'welcome',\n",
       " 'TCS',\n",
       " 'INFY',\n",
       " 'ISM',\n",
       " 'w',\n",
       " 'e',\n",
       " 'l',\n",
       " 'c',\n",
       " 'o',\n",
       " 'm',\n",
       " 'e']"
      ]
     },
     "execution_count": 122,
     "metadata": {},
     "output_type": "execute_result"
    }
   ],
   "source": [
    "languages "
   ]
  },
  {
   "cell_type": "code",
   "execution_count": 123,
   "id": "76fa13de",
   "metadata": {},
   "outputs": [],
   "source": [
    "languages[0] = \"Java\""
   ]
  },
  {
   "cell_type": "code",
   "execution_count": 124,
   "id": "ffe75869",
   "metadata": {},
   "outputs": [
    {
     "data": {
      "text/plain": [
       "['Java',\n",
       " 'C#',\n",
       " 'Ruby',\n",
       " 'Rust',\n",
       " 'VB',\n",
       " 'VC',\n",
       " [10, 20, 30],\n",
       " 'welcome',\n",
       " 'TCS',\n",
       " 'INFY',\n",
       " 'ISM',\n",
       " 'w',\n",
       " 'e',\n",
       " 'l',\n",
       " 'c',\n",
       " 'o',\n",
       " 'm',\n",
       " 'e']"
      ]
     },
     "execution_count": 124,
     "metadata": {},
     "output_type": "execute_result"
    }
   ],
   "source": [
    "languages "
   ]
  },
  {
   "cell_type": "code",
   "execution_count": 125,
   "id": "93997592",
   "metadata": {},
   "outputs": [
    {
     "ename": "TypeError",
     "evalue": "'str' object does not support item assignment",
     "output_type": "error",
     "traceback": [
      "\u001b[1;31m---------------------------------------------------------------------------\u001b[0m",
      "\u001b[1;31mTypeError\u001b[0m                                 Traceback (most recent call last)",
      "\u001b[1;32m~\\AppData\\Local\\Temp\\ipykernel_10524\\272222108.py\u001b[0m in \u001b[0;36m<module>\u001b[1;34m\u001b[0m\n\u001b[1;32m----> 1\u001b[1;33m \u001b[0ms\u001b[0m\u001b[1;33m[\u001b[0m\u001b[1;36m0\u001b[0m\u001b[1;33m]\u001b[0m \u001b[1;33m=\u001b[0m \u001b[1;34m\"z\"\u001b[0m\u001b[1;33m\u001b[0m\u001b[1;33m\u001b[0m\u001b[0m\n\u001b[0m",
      "\u001b[1;31mTypeError\u001b[0m: 'str' object does not support item assignment"
     ]
    }
   ],
   "source": [
    "s[0] = \"z\""
   ]
  },
  {
   "cell_type": "code",
   "execution_count": 126,
   "id": "7173910f",
   "metadata": {},
   "outputs": [],
   "source": [
    "# Mutable = list, dict, sets\n",
    "# Immutable = String, tuples, int, float, bool"
   ]
  },
  {
   "cell_type": "markdown",
   "id": "c9282a24",
   "metadata": {},
   "source": [
    "# Sort"
   ]
  },
  {
   "cell_type": "code",
   "execution_count": 128,
   "id": "3abe976b",
   "metadata": {},
   "outputs": [
    {
     "data": {
      "text/plain": [
       "['Java', 'C#', 'Ruby', 'Rust']"
      ]
     },
     "execution_count": 128,
     "metadata": {},
     "output_type": "execute_result"
    }
   ],
   "source": [
    "lang = ['Java','C#', 'Ruby', 'Rust']\n",
    "lang"
   ]
  },
  {
   "cell_type": "code",
   "execution_count": 129,
   "id": "99ab1143",
   "metadata": {},
   "outputs": [
    {
     "data": {
      "text/plain": [
       "['C#', 'Java', 'Ruby', 'Rust']"
      ]
     },
     "execution_count": 129,
     "metadata": {},
     "output_type": "execute_result"
    }
   ],
   "source": [
    "lang.sort()\n",
    "lang"
   ]
  },
  {
   "cell_type": "code",
   "execution_count": 130,
   "id": "04cf2dd6",
   "metadata": {},
   "outputs": [
    {
     "data": {
      "text/plain": [
       "[12, 34, 56, 67, 90]"
      ]
     },
     "execution_count": 130,
     "metadata": {},
     "output_type": "execute_result"
    }
   ],
   "source": [
    "nums = [34, 12, 67, 90, 56]\n",
    "nums.sort()\n",
    "nums"
   ]
  },
  {
   "cell_type": "code",
   "execution_count": 133,
   "id": "966c159e",
   "metadata": {},
   "outputs": [
    {
     "data": {
      "text/plain": [
       "[90, 67, 56, 34, 12]"
      ]
     },
     "execution_count": 133,
     "metadata": {},
     "output_type": "execute_result"
    }
   ],
   "source": [
    "# for descending order\n",
    "nums.sort(reverse=True)\n",
    "nums"
   ]
  },
  {
   "cell_type": "markdown",
   "id": "f2f59d16",
   "metadata": {},
   "source": [
    "# Tuples\n",
    "- Ordered collection of items\n",
    "- syntax ()\n",
    "- immutable"
   ]
  },
  {
   "cell_type": "code",
   "execution_count": 134,
   "id": "9e154441",
   "metadata": {},
   "outputs": [],
   "source": [
    "vaccines = (\"Convaxin\", \"Covishield\", \"Sputnik\")"
   ]
  },
  {
   "cell_type": "code",
   "execution_count": 135,
   "id": "2a4a55bd",
   "metadata": {},
   "outputs": [
    {
     "data": {
      "text/plain": [
       "tuple"
      ]
     },
     "execution_count": 135,
     "metadata": {},
     "output_type": "execute_result"
    }
   ],
   "source": [
    "type(vaccines)"
   ]
  },
  {
   "cell_type": "code",
   "execution_count": 136,
   "id": "4ad58d87",
   "metadata": {},
   "outputs": [
    {
     "data": {
      "text/plain": [
       "3"
      ]
     },
     "execution_count": 136,
     "metadata": {},
     "output_type": "execute_result"
    }
   ],
   "source": [
    "len(vaccines)"
   ]
  },
  {
   "cell_type": "code",
   "execution_count": 137,
   "id": "f9448720",
   "metadata": {},
   "outputs": [
    {
     "data": {
      "text/plain": [
       "'Convaxin'"
      ]
     },
     "execution_count": 137,
     "metadata": {},
     "output_type": "execute_result"
    }
   ],
   "source": [
    "vaccines[0]"
   ]
  },
  {
   "cell_type": "code",
   "execution_count": 138,
   "id": "4548fd22",
   "metadata": {},
   "outputs": [
    {
     "data": {
      "text/plain": [
       "('Convaxin', 'Covishield')"
      ]
     },
     "execution_count": 138,
     "metadata": {},
     "output_type": "execute_result"
    }
   ],
   "source": [
    "vaccines[:2]"
   ]
  },
  {
   "cell_type": "code",
   "execution_count": 139,
   "id": "69d2614a",
   "metadata": {},
   "outputs": [
    {
     "data": {
      "text/plain": [
       "'Sputnik'"
      ]
     },
     "execution_count": 139,
     "metadata": {},
     "output_type": "execute_result"
    }
   ],
   "source": [
    "vaccines[-1]"
   ]
  },
  {
   "cell_type": "code",
   "execution_count": 140,
   "id": "5a0f8bda",
   "metadata": {},
   "outputs": [
    {
     "data": {
      "text/plain": [
       "1"
      ]
     },
     "execution_count": 140,
     "metadata": {},
     "output_type": "execute_result"
    }
   ],
   "source": [
    "vaccines.count(\"Convaxin\")"
   ]
  },
  {
   "cell_type": "code",
   "execution_count": 141,
   "id": "9c3f50dc",
   "metadata": {},
   "outputs": [
    {
     "ename": "SyntaxError",
     "evalue": "cannot delete function call (3416852606.py, line 1)",
     "output_type": "error",
     "traceback": [
      "\u001b[1;36m  File \u001b[1;32m\"C:\\Users\\Avanti\\AppData\\Local\\Temp\\ipykernel_10524\\3416852606.py\"\u001b[1;36m, line \u001b[1;32m1\u001b[0m\n\u001b[1;33m    del vaccines(0)\u001b[0m\n\u001b[1;37m        ^\u001b[0m\n\u001b[1;31mSyntaxError\u001b[0m\u001b[1;31m:\u001b[0m cannot delete function call\n"
     ]
    }
   ],
   "source": [
    "# tuples are immutable, so it can not be changed\n",
    "# we can not del, add and update\n",
    "\n",
    "del vaccines(0)"
   ]
  },
  {
   "cell_type": "markdown",
   "id": "d2eed498",
   "metadata": {},
   "source": [
    "# Packing"
   ]
  },
  {
   "cell_type": "code",
   "execution_count": 142,
   "id": "650a108c",
   "metadata": {},
   "outputs": [],
   "source": [
    "# Packing creates tuple by default\n",
    "rs = \"Rohit\", 34, \"Num\""
   ]
  },
  {
   "cell_type": "code",
   "execution_count": 143,
   "id": "91918bb5",
   "metadata": {},
   "outputs": [
    {
     "data": {
      "text/plain": [
       "('Rohit', 34, 'Num')"
      ]
     },
     "execution_count": 143,
     "metadata": {},
     "output_type": "execute_result"
    }
   ],
   "source": [
    "rs"
   ]
  },
  {
   "cell_type": "code",
   "execution_count": 144,
   "id": "38e92256",
   "metadata": {},
   "outputs": [
    {
     "name": "stdout",
     "output_type": "stream",
     "text": [
      "<class 'tuple'>\n"
     ]
    }
   ],
   "source": [
    "print(type(rs))"
   ]
  },
  {
   "cell_type": "code",
   "execution_count": 145,
   "id": "b908007c",
   "metadata": {},
   "outputs": [],
   "source": [
    "name, age, std = \"Avantika\", 20, \"BCA_III\""
   ]
  },
  {
   "cell_type": "code",
   "execution_count": 146,
   "id": "e0464552",
   "metadata": {},
   "outputs": [
    {
     "data": {
      "text/plain": [
       "'Avantika'"
      ]
     },
     "execution_count": 146,
     "metadata": {},
     "output_type": "execute_result"
    }
   ],
   "source": [
    "name"
   ]
  },
  {
   "cell_type": "code",
   "execution_count": 147,
   "id": "539255d6",
   "metadata": {},
   "outputs": [
    {
     "data": {
      "text/plain": [
       "str"
      ]
     },
     "execution_count": 147,
     "metadata": {},
     "output_type": "execute_result"
    }
   ],
   "source": [
    "type(name)"
   ]
  },
  {
   "cell_type": "code",
   "execution_count": 148,
   "id": "3757d615",
   "metadata": {},
   "outputs": [
    {
     "data": {
      "text/plain": [
       "2073957886336"
      ]
     },
     "execution_count": 148,
     "metadata": {},
     "output_type": "execute_result"
    }
   ],
   "source": [
    "id(rs)"
   ]
  },
  {
   "cell_type": "code",
   "execution_count": 149,
   "id": "a34d3a99",
   "metadata": {},
   "outputs": [
    {
     "data": {
      "text/plain": [
       "2073960544496"
      ]
     },
     "execution_count": 149,
     "metadata": {},
     "output_type": "execute_result"
    }
   ],
   "source": [
    "id(name)"
   ]
  },
  {
   "cell_type": "code",
   "execution_count": 150,
   "id": "2b035e6b",
   "metadata": {},
   "outputs": [
    {
     "data": {
      "text/plain": [
       "2073846901648"
      ]
     },
     "execution_count": 150,
     "metadata": {},
     "output_type": "execute_result"
    }
   ],
   "source": [
    "id(age)"
   ]
  },
  {
   "cell_type": "code",
   "execution_count": 151,
   "id": "b25f08f3",
   "metadata": {},
   "outputs": [
    {
     "data": {
      "text/plain": [
       "2073954401968"
      ]
     },
     "execution_count": 151,
     "metadata": {},
     "output_type": "execute_result"
    }
   ],
   "source": [
    "id(std)"
   ]
  },
  {
   "cell_type": "code",
   "execution_count": 152,
   "id": "c41f0ad4",
   "metadata": {},
   "outputs": [
    {
     "ename": "ValueError",
     "evalue": "too many values to unpack (expected 3)",
     "output_type": "error",
     "traceback": [
      "\u001b[1;31m---------------------------------------------------------------------------\u001b[0m",
      "\u001b[1;31mValueError\u001b[0m                                Traceback (most recent call last)",
      "\u001b[1;32m~\\AppData\\Local\\Temp\\ipykernel_10524\\3400341831.py\u001b[0m in \u001b[0;36m<module>\u001b[1;34m\u001b[0m\n\u001b[1;32m----> 1\u001b[1;33m \u001b[0mname\u001b[0m\u001b[1;33m,\u001b[0m \u001b[0mage\u001b[0m\u001b[1;33m,\u001b[0m \u001b[0mstd\u001b[0m \u001b[1;33m=\u001b[0m \u001b[1;34m\"Avantika\"\u001b[0m\u001b[1;33m,\u001b[0m \u001b[1;36m20\u001b[0m\u001b[1;33m,\u001b[0m \u001b[1;34m\"BCA_III\"\u001b[0m\u001b[1;33m,\u001b[0m \u001b[1;34m\"India\"\u001b[0m\u001b[1;33m\u001b[0m\u001b[1;33m\u001b[0m\u001b[0m\n\u001b[0m",
      "\u001b[1;31mValueError\u001b[0m: too many values to unpack (expected 3)"
     ]
    }
   ],
   "source": [
    "name, age, std = \"Avantika\", 20, \"BCA_III\", \"India\""
   ]
  },
  {
   "cell_type": "code",
   "execution_count": 153,
   "id": "0fcfbfb0",
   "metadata": {},
   "outputs": [],
   "source": [
    "name, age, *std = \"Avantika\", 20, \"BCA_III\", \"India\""
   ]
  },
  {
   "cell_type": "code",
   "execution_count": 3,
   "id": "34f45aca",
   "metadata": {},
   "outputs": [],
   "source": [
    "players = (\"Virat\", \"RCB\", [120, 45, 60], \"India\")"
   ]
  },
  {
   "cell_type": "code",
   "execution_count": 4,
   "id": "ffefb498",
   "metadata": {},
   "outputs": [
    {
     "data": {
      "text/plain": [
       "('Virat', 'RCB', [120, 45, 60], 'India')"
      ]
     },
     "execution_count": 4,
     "metadata": {},
     "output_type": "execute_result"
    }
   ],
   "source": [
    "players"
   ]
  },
  {
   "cell_type": "code",
   "execution_count": 5,
   "id": "1d4fc801",
   "metadata": {},
   "outputs": [
    {
     "data": {
      "text/plain": [
       "[120, 45, 60]"
      ]
     },
     "execution_count": 5,
     "metadata": {},
     "output_type": "execute_result"
    }
   ],
   "source": [
    "players[2]"
   ]
  },
  {
   "cell_type": "code",
   "execution_count": 7,
   "id": "10f2d409",
   "metadata": {},
   "outputs": [],
   "source": [
    "players[2].append(50)"
   ]
  },
  {
   "cell_type": "code",
   "execution_count": 8,
   "id": "fb1d4670",
   "metadata": {},
   "outputs": [
    {
     "ename": "TypeError",
     "evalue": "'tuple' object does not support item assignment",
     "output_type": "error",
     "traceback": [
      "\u001b[1;31m---------------------------------------------------------------------------\u001b[0m",
      "\u001b[1;31mTypeError\u001b[0m                                 Traceback (most recent call last)",
      "\u001b[1;32m~\\AppData\\Local\\Temp\\ipykernel_6804\\1149028806.py\u001b[0m in \u001b[0;36m<module>\u001b[1;34m\u001b[0m\n\u001b[1;32m----> 1\u001b[1;33m \u001b[0mplayers\u001b[0m\u001b[1;33m[\u001b[0m\u001b[1;36m2\u001b[0m\u001b[1;33m]\u001b[0m \u001b[1;33m=\u001b[0m \u001b[1;34m\"Score\"\u001b[0m\u001b[1;33m\u001b[0m\u001b[1;33m\u001b[0m\u001b[0m\n\u001b[0m",
      "\u001b[1;31mTypeError\u001b[0m: 'tuple' object does not support item assignment"
     ]
    }
   ],
   "source": [
    "players[2] = \"Score\""
   ]
  },
  {
   "cell_type": "code",
   "execution_count": 9,
   "id": "f062387c",
   "metadata": {},
   "outputs": [],
   "source": [
    "players[2][0] = 110"
   ]
  },
  {
   "cell_type": "code",
   "execution_count": 10,
   "id": "742b0903",
   "metadata": {},
   "outputs": [
    {
     "data": {
      "text/plain": [
       "('Virat', 'RCB', [110, 45, 60, 50], 'India')"
      ]
     },
     "execution_count": 10,
     "metadata": {},
     "output_type": "execute_result"
    }
   ],
   "source": [
    "players"
   ]
  },
  {
   "cell_type": "code",
   "execution_count": 11,
   "id": "0c498846",
   "metadata": {},
   "outputs": [],
   "source": [
    "players = (\"Virat\", \"RCB\", [100], \"India\")"
   ]
  },
  {
   "cell_type": "code",
   "execution_count": 62,
   "id": "064c0fc1",
   "metadata": {},
   "outputs": [
    {
     "ename": "AttributeError",
     "evalue": "'int' object has no attribute 'append'",
     "output_type": "error",
     "traceback": [
      "\u001b[1;31m---------------------------------------------------------------------------\u001b[0m",
      "\u001b[1;31mAttributeError\u001b[0m                            Traceback (most recent call last)",
      "\u001b[1;32m~\\AppData\\Local\\Temp\\ipykernel_6804\\1183480795.py\u001b[0m in \u001b[0;36m<module>\u001b[1;34m\u001b[0m\n\u001b[1;32m----> 1\u001b[1;33m \u001b[0mplayers\u001b[0m\u001b[1;33m[\u001b[0m\u001b[1;36m2\u001b[0m\u001b[1;33m]\u001b[0m\u001b[1;33m[\u001b[0m\u001b[1;36m0\u001b[0m\u001b[1;33m]\u001b[0m\u001b[1;33m.\u001b[0m\u001b[0mappend\u001b[0m\u001b[1;33m(\u001b[0m\u001b[1;36m110\u001b[0m\u001b[1;33m)\u001b[0m\u001b[1;33m\u001b[0m\u001b[1;33m\u001b[0m\u001b[0m\n\u001b[0m",
      "\u001b[1;31mAttributeError\u001b[0m: 'int' object has no attribute 'append'"
     ]
    }
   ],
   "source": [
    "# if we want to change value on particular index, use name[index] = value\n",
    "players[2][0].append(110) # error"
   ]
  },
  {
   "cell_type": "code",
   "execution_count": 66,
   "id": "f7d3aaa3",
   "metadata": {},
   "outputs": [],
   "source": [
    "# if we want to add new item, use append\n",
    "players[2].append(135)"
   ]
  },
  {
   "cell_type": "code",
   "execution_count": 67,
   "id": "671b41a5",
   "metadata": {},
   "outputs": [
    {
     "data": {
      "text/plain": [
       "[110, 135]"
      ]
     },
     "execution_count": 67,
     "metadata": {},
     "output_type": "execute_result"
    }
   ],
   "source": [
    "players[2]"
   ]
  },
  {
   "cell_type": "code",
   "execution_count": 68,
   "id": "ee42bf99",
   "metadata": {},
   "outputs": [
    {
     "data": {
      "text/plain": [
       "('Virat', 'RCB', [110, 135], 'India')"
      ]
     },
     "execution_count": 68,
     "metadata": {},
     "output_type": "execute_result"
    }
   ],
   "source": [
    "players"
   ]
  },
  {
   "cell_type": "code",
   "execution_count": 13,
   "id": "b5684d01",
   "metadata": {},
   "outputs": [
    {
     "data": {
      "text/plain": [
       "[1, 2, 3, 3, (2, 3, 4), 5, 6]"
      ]
     },
     "execution_count": 13,
     "metadata": {},
     "output_type": "execute_result"
    }
   ],
   "source": [
    "x = [1, 2, 3, 3, (2, 3, 4), 5, 6]\n",
    "x"
   ]
  },
  {
   "cell_type": "code",
   "execution_count": 16,
   "id": "7f1dadd5",
   "metadata": {},
   "outputs": [
    {
     "ename": "TypeError",
     "evalue": "'tuple' object does not support item assignment",
     "output_type": "error",
     "traceback": [
      "\u001b[1;31m---------------------------------------------------------------------------\u001b[0m",
      "\u001b[1;31mTypeError\u001b[0m                                 Traceback (most recent call last)",
      "\u001b[1;32m~\\AppData\\Local\\Temp\\ipykernel_6804\\1584912283.py\u001b[0m in \u001b[0;36m<module>\u001b[1;34m\u001b[0m\n\u001b[1;32m----> 1\u001b[1;33m \u001b[0mx\u001b[0m\u001b[1;33m[\u001b[0m\u001b[1;36m4\u001b[0m\u001b[1;33m]\u001b[0m\u001b[1;33m[\u001b[0m\u001b[1;36m0\u001b[0m\u001b[1;33m]\u001b[0m \u001b[1;33m=\u001b[0m \u001b[1;36m10\u001b[0m\u001b[1;33m\u001b[0m\u001b[1;33m\u001b[0m\u001b[0m\n\u001b[0m",
      "\u001b[1;31mTypeError\u001b[0m: 'tuple' object does not support item assignment"
     ]
    }
   ],
   "source": [
    "x[4][0] = 10"
   ]
  },
  {
   "cell_type": "markdown",
   "id": "5f7fdfd4",
   "metadata": {},
   "source": [
    "# IN OPERATOR"
   ]
  },
  {
   "cell_type": "code",
   "execution_count": 15,
   "id": "1af970c0",
   "metadata": {},
   "outputs": [
    {
     "data": {
      "text/plain": [
       "('Virat', 'RCB', [100], 'India')"
      ]
     },
     "execution_count": 15,
     "metadata": {},
     "output_type": "execute_result"
    }
   ],
   "source": [
    "players"
   ]
  },
  {
   "cell_type": "code",
   "execution_count": 17,
   "id": "f9622e9d",
   "metadata": {},
   "outputs": [
    {
     "data": {
      "text/plain": [
       "True"
      ]
     },
     "execution_count": 17,
     "metadata": {},
     "output_type": "execute_result"
    }
   ],
   "source": [
    "\"Virat\" in players"
   ]
  },
  {
   "cell_type": "code",
   "execution_count": 18,
   "id": "0871e750",
   "metadata": {},
   "outputs": [
    {
     "data": {
      "text/plain": [
       "False"
      ]
     },
     "execution_count": 18,
     "metadata": {},
     "output_type": "execute_result"
    }
   ],
   "source": [
    "\"Rohit\" in players"
   ]
  },
  {
   "cell_type": "code",
   "execution_count": 19,
   "id": "aa2321c6",
   "metadata": {},
   "outputs": [],
   "source": [
    "s = \"WELCOME\""
   ]
  },
  {
   "cell_type": "code",
   "execution_count": 22,
   "id": "49e249de",
   "metadata": {},
   "outputs": [
    {
     "data": {
      "text/plain": [
       "True"
      ]
     },
     "execution_count": 22,
     "metadata": {},
     "output_type": "execute_result"
    }
   ],
   "source": [
    "\"W\" in s"
   ]
  },
  {
   "cell_type": "markdown",
   "id": "77cf38b0",
   "metadata": {},
   "source": [
    "# Misc - Strings"
   ]
  },
  {
   "cell_type": "code",
   "execution_count": 24,
   "id": "09319f89",
   "metadata": {},
   "outputs": [
    {
     "name": "stdout",
     "output_type": "stream",
     "text": [
      "c:\n",
      "ewfolder\n"
     ]
    }
   ],
   "source": [
    "# \\n = new line\n",
    "location = \"c:\\newfolder\"\n",
    "print(location)"
   ]
  },
  {
   "cell_type": "code",
   "execution_count": 25,
   "id": "9d7fb9ad",
   "metadata": {},
   "outputs": [
    {
     "name": "stdout",
     "output_type": "stream",
     "text": [
      "c:\\newfolder\n"
     ]
    }
   ],
   "source": [
    "location = \"c:\\\\newfolder\"\n",
    "print(location)"
   ]
  },
  {
   "cell_type": "code",
   "execution_count": 26,
   "id": "b8a77fac",
   "metadata": {},
   "outputs": [
    {
     "name": "stdout",
     "output_type": "stream",
     "text": [
      "c:\\newfolder\n"
     ]
    }
   ],
   "source": [
    "# r =  r represents in row format (row string)\n",
    "location = r\"c:\\newfolder\"\n",
    "print(location)"
   ]
  },
  {
   "cell_type": "markdown",
   "id": "fb36264b",
   "metadata": {},
   "source": [
    "# format"
   ]
  },
  {
   "cell_type": "code",
   "execution_count": 27,
   "id": "9bb20258",
   "metadata": {},
   "outputs": [],
   "source": [
    "sessioncount = 10"
   ]
  },
  {
   "cell_type": "code",
   "execution_count": 28,
   "id": "f825f910",
   "metadata": {},
   "outputs": [],
   "source": [
    "chapter = 8"
   ]
  },
  {
   "cell_type": "code",
   "execution_count": 29,
   "id": "fbef7601",
   "metadata": {},
   "outputs": [
    {
     "name": "stdout",
     "output_type": "stream",
     "text": [
      "10\n"
     ]
    }
   ],
   "source": [
    "print(sessioncount)"
   ]
  },
  {
   "cell_type": "code",
   "execution_count": 30,
   "id": "a355d97d",
   "metadata": {},
   "outputs": [
    {
     "name": "stdout",
     "output_type": "stream",
     "text": [
      "8\n"
     ]
    }
   ],
   "source": [
    "print(chapter)"
   ]
  },
  {
   "cell_type": "code",
   "execution_count": 32,
   "id": "fd2287fe",
   "metadata": {},
   "outputs": [
    {
     "ename": "TypeError",
     "evalue": "can only concatenate str (not \"int\") to str",
     "output_type": "error",
     "traceback": [
      "\u001b[1;31m---------------------------------------------------------------------------\u001b[0m",
      "\u001b[1;31mTypeError\u001b[0m                                 Traceback (most recent call last)",
      "\u001b[1;32m~\\AppData\\Local\\Temp\\ipykernel_6804\\1207931310.py\u001b[0m in \u001b[0;36m<module>\u001b[1;34m\u001b[0m\n\u001b[1;32m----> 1\u001b[1;33m \u001b[0mmsg\u001b[0m \u001b[1;33m=\u001b[0m \u001b[1;34m\"There will be \"\u001b[0m \u001b[1;33m+\u001b[0m \u001b[0mchapter\u001b[0m\u001b[1;33m\u001b[0m\u001b[1;33m\u001b[0m\u001b[0m\n\u001b[0m",
      "\u001b[1;31mTypeError\u001b[0m: can only concatenate str (not \"int\") to str"
     ]
    }
   ],
   "source": [
    "msg = \"There will be \" + chapter"
   ]
  },
  {
   "cell_type": "code",
   "execution_count": 36,
   "id": "4a083a91",
   "metadata": {},
   "outputs": [
    {
     "name": "stdout",
     "output_type": "stream",
     "text": [
      "There will be 8 Chapters in the course and spanned across 10 sessions\n"
     ]
    }
   ],
   "source": [
    "msg = \"There will be \" + str(chapter) + \" Chapters in the course and spanned across \" + str(sessioncount) + \" sessions\"\n",
    "print(msg)"
   ]
  },
  {
   "cell_type": "code",
   "execution_count": 39,
   "id": "0caa2561",
   "metadata": {},
   "outputs": [
    {
     "name": "stdout",
     "output_type": "stream",
     "text": [
      "There will be 8 Chapters in the course and spanned across 10 sessions\n"
     ]
    }
   ],
   "source": [
    "# .format()\n",
    "fmsg = \"There will be {} Chapters in the course and spanned across {} sessions\".format(chapter, sessioncount)\n",
    "print(fmsg)"
   ]
  },
  {
   "cell_type": "code",
   "execution_count": 42,
   "id": "21f894e5",
   "metadata": {},
   "outputs": [
    {
     "name": "stdout",
     "output_type": "stream",
     "text": [
      "There will be 8 Chapters in the course and spanned across 10 sessions. the 10 sessions are scheduled over weekday\n"
     ]
    }
   ],
   "source": [
    "fmsg = \"There will be {0} Chapters in the course and spanned across {1} sessions. the {1} sessions are scheduled over weekday\".format(chapter, sessioncount)\n",
    "print(fmsg)"
   ]
  },
  {
   "cell_type": "markdown",
   "id": "eb5f2254",
   "metadata": {},
   "source": [
    "# Dictionaries\n",
    "- collection of key-value pair\n",
    "- {}\n",
    "- mutable"
   ]
  },
  {
   "cell_type": "code",
   "execution_count": 43,
   "id": "485efd23",
   "metadata": {},
   "outputs": [],
   "source": [
    "fruits = {\"a\":\"apple\", \"b\":\"banana\", \"c\":\"cherry\"}"
   ]
  },
  {
   "cell_type": "code",
   "execution_count": 44,
   "id": "2f2fed16",
   "metadata": {},
   "outputs": [
    {
     "data": {
      "text/plain": [
       "{'a': 'apple', 'b': 'banana', 'c': 'cherry'}"
      ]
     },
     "execution_count": 44,
     "metadata": {},
     "output_type": "execute_result"
    }
   ],
   "source": [
    "fruits"
   ]
  },
  {
   "cell_type": "code",
   "execution_count": 45,
   "id": "248e9c81",
   "metadata": {},
   "outputs": [
    {
     "data": {
      "text/plain": [
       "dict"
      ]
     },
     "execution_count": 45,
     "metadata": {},
     "output_type": "execute_result"
    }
   ],
   "source": [
    "type(fruits)"
   ]
  },
  {
   "cell_type": "code",
   "execution_count": 46,
   "id": "ead49668",
   "metadata": {},
   "outputs": [
    {
     "name": "stdout",
     "output_type": "stream",
     "text": [
      "Help on class dict in module builtins:\n",
      "\n",
      "class dict(object)\n",
      " |  dict() -> new empty dictionary\n",
      " |  dict(mapping) -> new dictionary initialized from a mapping object's\n",
      " |      (key, value) pairs\n",
      " |  dict(iterable) -> new dictionary initialized as if via:\n",
      " |      d = {}\n",
      " |      for k, v in iterable:\n",
      " |          d[k] = v\n",
      " |  dict(**kwargs) -> new dictionary initialized with the name=value pairs\n",
      " |      in the keyword argument list.  For example:  dict(one=1, two=2)\n",
      " |  \n",
      " |  Built-in subclasses:\n",
      " |      StgDict\n",
      " |  \n",
      " |  Methods defined here:\n",
      " |  \n",
      " |  __contains__(self, key, /)\n",
      " |      True if the dictionary has the specified key, else False.\n",
      " |  \n",
      " |  __delitem__(self, key, /)\n",
      " |      Delete self[key].\n",
      " |  \n",
      " |  __eq__(self, value, /)\n",
      " |      Return self==value.\n",
      " |  \n",
      " |  __ge__(self, value, /)\n",
      " |      Return self>=value.\n",
      " |  \n",
      " |  __getattribute__(self, name, /)\n",
      " |      Return getattr(self, name).\n",
      " |  \n",
      " |  __getitem__(...)\n",
      " |      x.__getitem__(y) <==> x[y]\n",
      " |  \n",
      " |  __gt__(self, value, /)\n",
      " |      Return self>value.\n",
      " |  \n",
      " |  __init__(self, /, *args, **kwargs)\n",
      " |      Initialize self.  See help(type(self)) for accurate signature.\n",
      " |  \n",
      " |  __ior__(self, value, /)\n",
      " |      Return self|=value.\n",
      " |  \n",
      " |  __iter__(self, /)\n",
      " |      Implement iter(self).\n",
      " |  \n",
      " |  __le__(self, value, /)\n",
      " |      Return self<=value.\n",
      " |  \n",
      " |  __len__(self, /)\n",
      " |      Return len(self).\n",
      " |  \n",
      " |  __lt__(self, value, /)\n",
      " |      Return self<value.\n",
      " |  \n",
      " |  __ne__(self, value, /)\n",
      " |      Return self!=value.\n",
      " |  \n",
      " |  __or__(self, value, /)\n",
      " |      Return self|value.\n",
      " |  \n",
      " |  __repr__(self, /)\n",
      " |      Return repr(self).\n",
      " |  \n",
      " |  __reversed__(self, /)\n",
      " |      Return a reverse iterator over the dict keys.\n",
      " |  \n",
      " |  __ror__(self, value, /)\n",
      " |      Return value|self.\n",
      " |  \n",
      " |  __setitem__(self, key, value, /)\n",
      " |      Set self[key] to value.\n",
      " |  \n",
      " |  __sizeof__(...)\n",
      " |      D.__sizeof__() -> size of D in memory, in bytes\n",
      " |  \n",
      " |  clear(...)\n",
      " |      D.clear() -> None.  Remove all items from D.\n",
      " |  \n",
      " |  copy(...)\n",
      " |      D.copy() -> a shallow copy of D\n",
      " |  \n",
      " |  get(self, key, default=None, /)\n",
      " |      Return the value for key if key is in the dictionary, else default.\n",
      " |  \n",
      " |  items(...)\n",
      " |      D.items() -> a set-like object providing a view on D's items\n",
      " |  \n",
      " |  keys(...)\n",
      " |      D.keys() -> a set-like object providing a view on D's keys\n",
      " |  \n",
      " |  pop(...)\n",
      " |      D.pop(k[,d]) -> v, remove specified key and return the corresponding value.\n",
      " |      \n",
      " |      If key is not found, default is returned if given, otherwise KeyError is raised\n",
      " |  \n",
      " |  popitem(self, /)\n",
      " |      Remove and return a (key, value) pair as a 2-tuple.\n",
      " |      \n",
      " |      Pairs are returned in LIFO (last-in, first-out) order.\n",
      " |      Raises KeyError if the dict is empty.\n",
      " |  \n",
      " |  setdefault(self, key, default=None, /)\n",
      " |      Insert key with a value of default if key is not in the dictionary.\n",
      " |      \n",
      " |      Return the value for key if key is in the dictionary, else default.\n",
      " |  \n",
      " |  update(...)\n",
      " |      D.update([E, ]**F) -> None.  Update D from dict/iterable E and F.\n",
      " |      If E is present and has a .keys() method, then does:  for k in E: D[k] = E[k]\n",
      " |      If E is present and lacks a .keys() method, then does:  for k, v in E: D[k] = v\n",
      " |      In either case, this is followed by: for k in F:  D[k] = F[k]\n",
      " |  \n",
      " |  values(...)\n",
      " |      D.values() -> an object providing a view on D's values\n",
      " |  \n",
      " |  ----------------------------------------------------------------------\n",
      " |  Class methods defined here:\n",
      " |  \n",
      " |  __class_getitem__(...) from builtins.type\n",
      " |      See PEP 585\n",
      " |  \n",
      " |  fromkeys(iterable, value=None, /) from builtins.type\n",
      " |      Create a new dictionary with keys from iterable and values set to value.\n",
      " |  \n",
      " |  ----------------------------------------------------------------------\n",
      " |  Static methods defined here:\n",
      " |  \n",
      " |  __new__(*args, **kwargs) from builtins.type\n",
      " |      Create and return a new object.  See help(type) for accurate signature.\n",
      " |  \n",
      " |  ----------------------------------------------------------------------\n",
      " |  Data and other attributes defined here:\n",
      " |  \n",
      " |  __hash__ = None\n",
      "\n"
     ]
    }
   ],
   "source": [
    "help(dict)"
   ]
  },
  {
   "cell_type": "code",
   "execution_count": 47,
   "id": "f14c433a",
   "metadata": {},
   "outputs": [
    {
     "data": {
      "text/plain": [
       "3"
      ]
     },
     "execution_count": 47,
     "metadata": {},
     "output_type": "execute_result"
    }
   ],
   "source": [
    "len(fruits)"
   ]
  },
  {
   "cell_type": "code",
   "execution_count": 48,
   "id": "72923a0f",
   "metadata": {},
   "outputs": [
    {
     "data": {
      "text/plain": [
       "'apple'"
      ]
     },
     "execution_count": 48,
     "metadata": {},
     "output_type": "execute_result"
    }
   ],
   "source": [
    "# order is lost in dictionary, we can call it by using key\n",
    "fruits[\"a\"]"
   ]
  },
  {
   "cell_type": "code",
   "execution_count": 53,
   "id": "f4ebea0d",
   "metadata": {},
   "outputs": [],
   "source": [
    "fruits[\"p\"] = \"Papaya\""
   ]
  },
  {
   "cell_type": "code",
   "execution_count": 50,
   "id": "4fbec8df",
   "metadata": {},
   "outputs": [
    {
     "data": {
      "text/plain": [
       "{'a': 'apple', 'b': 'banana', 'c': 'cherry', 'p': 'Papaya'}"
      ]
     },
     "execution_count": 50,
     "metadata": {},
     "output_type": "execute_result"
    }
   ],
   "source": [
    "fruits"
   ]
  },
  {
   "cell_type": "code",
   "execution_count": 51,
   "id": "eb26132e",
   "metadata": {},
   "outputs": [],
   "source": [
    "del fruits[\"p\"]"
   ]
  },
  {
   "cell_type": "code",
   "execution_count": 52,
   "id": "84c92c8d",
   "metadata": {},
   "outputs": [
    {
     "data": {
      "text/plain": [
       "{'a': 'apple', 'b': 'banana', 'c': 'cherry'}"
      ]
     },
     "execution_count": 52,
     "metadata": {},
     "output_type": "execute_result"
    }
   ],
   "source": [
    "fruits"
   ]
  },
  {
   "cell_type": "code",
   "execution_count": 54,
   "id": "a04dd569",
   "metadata": {},
   "outputs": [],
   "source": [
    "fruits[\"a\"] = \"apricot\""
   ]
  },
  {
   "cell_type": "code",
   "execution_count": 55,
   "id": "fa8bb34e",
   "metadata": {},
   "outputs": [
    {
     "data": {
      "text/plain": [
       "{'a': 'apricot', 'b': 'banana', 'c': 'cherry', 'p': 'Papaya'}"
      ]
     },
     "execution_count": 55,
     "metadata": {},
     "output_type": "execute_result"
    }
   ],
   "source": [
    "fruits"
   ]
  },
  {
   "cell_type": "code",
   "execution_count": 56,
   "id": "b410cd76",
   "metadata": {},
   "outputs": [
    {
     "data": {
      "text/plain": [
       "'Papaya'"
      ]
     },
     "execution_count": 56,
     "metadata": {},
     "output_type": "execute_result"
    }
   ],
   "source": [
    "fruits.pop(\"p\")"
   ]
  },
  {
   "cell_type": "code",
   "execution_count": 57,
   "id": "b24db3cc",
   "metadata": {},
   "outputs": [
    {
     "data": {
      "text/plain": [
       "{'a': 'apricot', 'b': 'banana', 'c': 'cherry'}"
      ]
     },
     "execution_count": 57,
     "metadata": {},
     "output_type": "execute_result"
    }
   ],
   "source": [
    "fruits"
   ]
  },
  {
   "cell_type": "code",
   "execution_count": 58,
   "id": "b3c7219e",
   "metadata": {},
   "outputs": [
    {
     "data": {
      "text/plain": [
       "('c', 'cherry')"
      ]
     },
     "execution_count": 58,
     "metadata": {},
     "output_type": "execute_result"
    }
   ],
   "source": [
    "fruits.popitem()"
   ]
  },
  {
   "cell_type": "code",
   "execution_count": 59,
   "id": "5a80157b",
   "metadata": {},
   "outputs": [
    {
     "data": {
      "text/plain": [
       "{'a': 'apricot', 'b': 'banana'}"
      ]
     },
     "execution_count": 59,
     "metadata": {},
     "output_type": "execute_result"
    }
   ],
   "source": [
    "fruits"
   ]
  },
  {
   "cell_type": "code",
   "execution_count": 69,
   "id": "227a68a5",
   "metadata": {},
   "outputs": [],
   "source": [
    "# INTERVIEW QUESTION\n",
    "# sample Input and output\n",
    "Input = \"This is from VertexBlue\"\n",
    "# Output : \"VertexBlue from is This\""
   ]
  },
  {
   "cell_type": "code",
   "execution_count": 70,
   "id": "ddf20070",
   "metadata": {},
   "outputs": [
    {
     "name": "stdout",
     "output_type": "stream",
     "text": [
      "VertexBlue from is This\n"
     ]
    }
   ],
   "source": [
    "print(\" \".join(Input.split()[::-1]))"
   ]
  },
  {
   "cell_type": "markdown",
   "id": "f20615df",
   "metadata": {},
   "source": [
    "# MISC operations"
   ]
  },
  {
   "cell_type": "code",
   "execution_count": 71,
   "id": "2f78399c",
   "metadata": {},
   "outputs": [
    {
     "data": {
      "text/plain": [
       "{'a': 'apricot', 'b': 'banana'}"
      ]
     },
     "execution_count": 71,
     "metadata": {},
     "output_type": "execute_result"
    }
   ],
   "source": [
    "fruits"
   ]
  },
  {
   "cell_type": "code",
   "execution_count": 73,
   "id": "1c867c2f",
   "metadata": {},
   "outputs": [],
   "source": [
    "fruits[\"C\"] = \"Custard\""
   ]
  },
  {
   "cell_type": "code",
   "execution_count": 74,
   "id": "cdda8c99",
   "metadata": {},
   "outputs": [
    {
     "data": {
      "text/plain": [
       "{'a': 'apricot', 'b': 'banana', 'C': 'Custard'}"
      ]
     },
     "execution_count": 74,
     "metadata": {},
     "output_type": "execute_result"
    }
   ],
   "source": [
    "fruits"
   ]
  },
  {
   "cell_type": "code",
   "execution_count": 75,
   "id": "2b78cd9e",
   "metadata": {},
   "outputs": [
    {
     "data": {
      "text/plain": [
       "dict_keys(['a', 'b', 'C'])"
      ]
     },
     "execution_count": 75,
     "metadata": {},
     "output_type": "execute_result"
    }
   ],
   "source": [
    "fruits.keys()"
   ]
  },
  {
   "cell_type": "code",
   "execution_count": 76,
   "id": "182ae9b7",
   "metadata": {},
   "outputs": [
    {
     "data": {
      "text/plain": [
       "dict_values(['apricot', 'banana', 'Custard'])"
      ]
     },
     "execution_count": 76,
     "metadata": {},
     "output_type": "execute_result"
    }
   ],
   "source": [
    "fruits.values()"
   ]
  },
  {
   "cell_type": "code",
   "execution_count": 77,
   "id": "0744a2f4",
   "metadata": {},
   "outputs": [
    {
     "data": {
      "text/plain": [
       "dict_items([('a', 'apricot'), ('b', 'banana'), ('C', 'Custard')])"
      ]
     },
     "execution_count": 77,
     "metadata": {},
     "output_type": "execute_result"
    }
   ],
   "source": [
    "fruits.items()"
   ]
  },
  {
   "cell_type": "code",
   "execution_count": 79,
   "id": "7e19aa23",
   "metadata": {},
   "outputs": [
    {
     "data": {
      "text/plain": [
       "True"
      ]
     },
     "execution_count": 79,
     "metadata": {},
     "output_type": "execute_result"
    }
   ],
   "source": [
    "\"apricot\" in fruits.values()"
   ]
  },
  {
   "cell_type": "markdown",
   "id": "ef046a41",
   "metadata": {},
   "source": [
    "# Range\n",
    "- Used to generate a sequence of numbers\n",
    "- Start(included), stop(excluded), step count"
   ]
  },
  {
   "cell_type": "code",
   "execution_count": 80,
   "id": "69f9b500",
   "metadata": {},
   "outputs": [],
   "source": [
    "r = range(0, 11)"
   ]
  },
  {
   "cell_type": "code",
   "execution_count": 81,
   "id": "80bb35d0",
   "metadata": {},
   "outputs": [
    {
     "data": {
      "text/plain": [
       "range(0, 11)"
      ]
     },
     "execution_count": 81,
     "metadata": {},
     "output_type": "execute_result"
    }
   ],
   "source": [
    "r"
   ]
  },
  {
   "cell_type": "code",
   "execution_count": 82,
   "id": "8e8e161c",
   "metadata": {},
   "outputs": [
    {
     "data": {
      "text/plain": [
       "range"
      ]
     },
     "execution_count": 82,
     "metadata": {},
     "output_type": "execute_result"
    }
   ],
   "source": [
    "type(r)"
   ]
  },
  {
   "cell_type": "code",
   "execution_count": 83,
   "id": "bef95a76",
   "metadata": {},
   "outputs": [
    {
     "data": {
      "text/plain": [
       "[0, 1, 2, 3, 4, 5, 6, 7, 8, 9, 10]"
      ]
     },
     "execution_count": 83,
     "metadata": {},
     "output_type": "execute_result"
    }
   ],
   "source": [
    "list(r)"
   ]
  },
  {
   "cell_type": "code",
   "execution_count": 84,
   "id": "7e284062",
   "metadata": {},
   "outputs": [
    {
     "data": {
      "text/plain": [
       "(0, 1, 2, 3, 4, 5, 6, 7, 8, 9, 10)"
      ]
     },
     "execution_count": 84,
     "metadata": {},
     "output_type": "execute_result"
    }
   ],
   "source": [
    "tuple(r)"
   ]
  },
  {
   "cell_type": "code",
   "execution_count": 85,
   "id": "a6f849b4",
   "metadata": {},
   "outputs": [],
   "source": [
    "r1 = list(range(15))"
   ]
  },
  {
   "cell_type": "code",
   "execution_count": 86,
   "id": "fba376e5",
   "metadata": {},
   "outputs": [
    {
     "data": {
      "text/plain": [
       "[0, 1, 2, 3, 4, 5, 6, 7, 8, 9, 10, 11, 12, 13, 14]"
      ]
     },
     "execution_count": 86,
     "metadata": {},
     "output_type": "execute_result"
    }
   ],
   "source": [
    "r1"
   ]
  },
  {
   "cell_type": "code",
   "execution_count": 87,
   "id": "76952a46",
   "metadata": {},
   "outputs": [
    {
     "data": {
      "text/plain": [
       "[5, 10, 15, 20]"
      ]
     },
     "execution_count": 87,
     "metadata": {},
     "output_type": "execute_result"
    }
   ],
   "source": [
    "r2 = list(range(5, 21, 5))\n",
    "r2"
   ]
  },
  {
   "cell_type": "code",
   "execution_count": 88,
   "id": "af3a25a9",
   "metadata": {},
   "outputs": [],
   "source": [
    "import numpy as np"
   ]
  },
  {
   "cell_type": "code",
   "execution_count": 89,
   "id": "cd422a46",
   "metadata": {},
   "outputs": [],
   "source": [
    "x = np.random.randint(10, 30, 5)"
   ]
  },
  {
   "cell_type": "code",
   "execution_count": 102,
   "id": "b5ce4d17",
   "metadata": {},
   "outputs": [
    {
     "data": {
      "text/plain": [
       "array([29, 22, 21, 17, 23])"
      ]
     },
     "execution_count": 102,
     "metadata": {},
     "output_type": "execute_result"
    }
   ],
   "source": [
    "x"
   ]
  },
  {
   "cell_type": "markdown",
   "id": "61159599",
   "metadata": {},
   "source": [
    "## Exercise\n",
    "- Generate odd sequence using range function(1, 100)"
   ]
  },
  {
   "cell_type": "code",
   "execution_count": 105,
   "id": "b726de79",
   "metadata": {},
   "outputs": [
    {
     "name": "stdout",
     "output_type": "stream",
     "text": [
      "[1, 3, 5, 7, 9, 11, 13, 15, 17, 19, 21, 23, 25, 27, 29, 31, 33, 35, 37, 39, 41, 43, 45, 47, 49, 51, 53, 55, 57, 59, 61, 63, 65, 67, 69, 71, 73, 75, 77, 79, 81, 83, 85, 87, 89, 91, 93, 95, 97, 99]\n"
     ]
    }
   ],
   "source": [
    "print(list(range(1, 100, 2)))"
   ]
  },
  {
   "cell_type": "code",
   "execution_count": 107,
   "id": "c77c8598",
   "metadata": {},
   "outputs": [
    {
     "data": {
      "text/plain": [
       "[1,\n",
       " 3,\n",
       " 5,\n",
       " 7,\n",
       " 9,\n",
       " 11,\n",
       " 13,\n",
       " 15,\n",
       " 17,\n",
       " 19,\n",
       " 21,\n",
       " 23,\n",
       " 25,\n",
       " 27,\n",
       " 29,\n",
       " 31,\n",
       " 33,\n",
       " 35,\n",
       " 37,\n",
       " 39,\n",
       " 41,\n",
       " 43,\n",
       " 45,\n",
       " 47,\n",
       " 49,\n",
       " 51,\n",
       " 53,\n",
       " 55,\n",
       " 57,\n",
       " 59,\n",
       " 61,\n",
       " 63,\n",
       " 65,\n",
       " 67,\n",
       " 69,\n",
       " 71,\n",
       " 73,\n",
       " 75,\n",
       " 77,\n",
       " 79,\n",
       " 81,\n",
       " 83,\n",
       " 85,\n",
       " 87,\n",
       " 89,\n",
       " 91,\n",
       " 93,\n",
       " 95,\n",
       " 97,\n",
       " 99]"
      ]
     },
     "execution_count": 107,
     "metadata": {},
     "output_type": "execute_result"
    }
   ],
   "source": [
    "odd_numbers  = [x for x in range(1, 100) if x%2!=0]\n",
    "odd_numbers"
   ]
  },
  {
   "cell_type": "code",
   "execution_count": null,
   "id": "f382a04c",
   "metadata": {},
   "outputs": [],
   "source": []
  },
  {
   "cell_type": "markdown",
   "id": "747ecc37",
   "metadata": {},
   "source": [
    "# Sets\n",
    "- unique collection of immutable items/objects\n",
    "- Syntax: {}"
   ]
  },
  {
   "cell_type": "code",
   "execution_count": 91,
   "id": "f3a4972a",
   "metadata": {},
   "outputs": [],
   "source": [
    "a = {\"sun\", \"mon\", \"tue\"}"
   ]
  },
  {
   "cell_type": "code",
   "execution_count": 92,
   "id": "20e39c63",
   "metadata": {},
   "outputs": [
    {
     "data": {
      "text/plain": [
       "set"
      ]
     },
     "execution_count": 92,
     "metadata": {},
     "output_type": "execute_result"
    }
   ],
   "source": [
    "type(a)"
   ]
  },
  {
   "cell_type": "code",
   "execution_count": 95,
   "id": "896dcda9",
   "metadata": {},
   "outputs": [],
   "source": [
    "a = {\"sun\", \"mon\", \"tue\", \"sun\"}"
   ]
  },
  {
   "cell_type": "code",
   "execution_count": 96,
   "id": "64611b28",
   "metadata": {},
   "outputs": [
    {
     "data": {
      "text/plain": [
       "{'mon', 'sun', 'tue'}"
      ]
     },
     "execution_count": 96,
     "metadata": {},
     "output_type": "execute_result"
    }
   ],
   "source": [
    "# there are no order\n",
    "a"
   ]
  },
  {
   "cell_type": "code",
   "execution_count": 97,
   "id": "a564558b",
   "metadata": {},
   "outputs": [],
   "source": [
    "a.add(\"wed\")"
   ]
  },
  {
   "cell_type": "code",
   "execution_count": 98,
   "id": "216f6657",
   "metadata": {},
   "outputs": [
    {
     "data": {
      "text/plain": [
       "{'mon', 'sun', 'tue', 'wed'}"
      ]
     },
     "execution_count": 98,
     "metadata": {},
     "output_type": "execute_result"
    }
   ],
   "source": [
    "a"
   ]
  },
  {
   "cell_type": "code",
   "execution_count": 99,
   "id": "7f71409d",
   "metadata": {},
   "outputs": [],
   "source": [
    "b = {\"thu\", \"fri\", \"sat\"}"
   ]
  },
  {
   "cell_type": "code",
   "execution_count": 100,
   "id": "2d256957",
   "metadata": {},
   "outputs": [
    {
     "data": {
      "text/plain": [
       "{'fri', 'mon', 'sat', 'sun', 'thu', 'tue', 'wed'}"
      ]
     },
     "execution_count": 100,
     "metadata": {},
     "output_type": "execute_result"
    }
   ],
   "source": [
    "a.union(b)"
   ]
  },
  {
   "cell_type": "code",
   "execution_count": 101,
   "id": "399c8f25",
   "metadata": {},
   "outputs": [],
   "source": [
    "b.add(\"sun\")"
   ]
  },
  {
   "cell_type": "code",
   "execution_count": 109,
   "id": "6567838d",
   "metadata": {},
   "outputs": [
    {
     "data": {
      "text/plain": [
       "{'fri', 'sat', 'sun', 'thu'}"
      ]
     },
     "execution_count": 109,
     "metadata": {},
     "output_type": "execute_result"
    }
   ],
   "source": [
    "b"
   ]
  },
  {
   "cell_type": "code",
   "execution_count": 110,
   "id": "e5c2b97f",
   "metadata": {},
   "outputs": [
    {
     "data": {
      "text/plain": [
       "{'sun'}"
      ]
     },
     "execution_count": 110,
     "metadata": {},
     "output_type": "execute_result"
    }
   ],
   "source": [
    "a&b"
   ]
  },
  {
   "cell_type": "code",
   "execution_count": null,
   "id": "a4feeae8",
   "metadata": {},
   "outputs": [],
   "source": []
  }
 ],
 "metadata": {
  "kernelspec": {
   "display_name": "Python 3 (ipykernel)",
   "language": "python",
   "name": "python3"
  },
  "language_info": {
   "codemirror_mode": {
    "name": "ipython",
    "version": 3
   },
   "file_extension": ".py",
   "mimetype": "text/x-python",
   "name": "python",
   "nbconvert_exporter": "python",
   "pygments_lexer": "ipython3",
   "version": "3.9.13"
  }
 },
 "nbformat": 4,
 "nbformat_minor": 5
}
