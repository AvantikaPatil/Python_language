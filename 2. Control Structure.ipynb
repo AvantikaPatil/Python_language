{
 "cells": [
  {
   "cell_type": "markdown",
   "id": "91aeaaa9",
   "metadata": {},
   "source": [
    "# Control Structure"
   ]
  },
  {
   "cell_type": "markdown",
   "id": "afd82773",
   "metadata": {},
   "source": [
    "## Taking user input"
   ]
  },
  {
   "cell_type": "code",
   "execution_count": 5,
   "id": "7f19eb28",
   "metadata": {},
   "outputs": [
    {
     "name": "stdout",
     "output_type": "stream",
     "text": [
      "Enter the current score: 10\n"
     ]
    }
   ],
   "source": [
    "# Input function take input by default string\n",
    "score = input(\"Enter the current score: \")"
   ]
  },
  {
   "cell_type": "code",
   "execution_count": 6,
   "id": "4d4691aa",
   "metadata": {},
   "outputs": [
    {
     "name": "stdout",
     "output_type": "stream",
     "text": [
      "enter the current score: 10\n"
     ]
    }
   ],
   "source": [
    "score = int(input(\"enter the current score: \"))"
   ]
  },
  {
   "cell_type": "code",
   "execution_count": 7,
   "id": "ac9850ca",
   "metadata": {},
   "outputs": [
    {
     "data": {
      "text/plain": [
       "10"
      ]
     },
     "execution_count": 7,
     "metadata": {},
     "output_type": "execute_result"
    }
   ],
   "source": [
    "score"
   ]
  },
  {
   "cell_type": "code",
   "execution_count": 8,
   "id": "c4e26195",
   "metadata": {},
   "outputs": [
    {
     "name": "stdout",
     "output_type": "stream",
     "text": [
      "<class 'int'>\n"
     ]
    }
   ],
   "source": [
    "print(type(score))"
   ]
  },
  {
   "cell_type": "code",
   "execution_count": 9,
   "id": "6cdf97ca",
   "metadata": {},
   "outputs": [],
   "source": [
    "x = 20"
   ]
  },
  {
   "cell_type": "code",
   "execution_count": 10,
   "id": "e560944d",
   "metadata": {},
   "outputs": [
    {
     "data": {
      "text/plain": [
       "20"
      ]
     },
     "execution_count": 10,
     "metadata": {},
     "output_type": "execute_result"
    }
   ],
   "source": [
    "x"
   ]
  },
  {
   "cell_type": "markdown",
   "id": "69f73395",
   "metadata": {},
   "source": [
    "# Conditional Statement\n",
    "- if\n",
    "- if-else\n",
    "- elif"
   ]
  },
  {
   "cell_type": "code",
   "execution_count": 13,
   "id": "d1db2c30",
   "metadata": {},
   "outputs": [
    {
     "name": "stdout",
     "output_type": "stream",
     "text": [
      "Enter any number: -12\n",
      "-12\n"
     ]
    }
   ],
   "source": [
    "number = int(input(\"Enter any number: \"))\n",
    "print(number)"
   ]
  },
  {
   "cell_type": "code",
   "execution_count": 12,
   "id": "e86e7b47",
   "metadata": {},
   "outputs": [
    {
     "name": "stdout",
     "output_type": "stream",
     "text": [
      "User has entered positive number:  12\n"
     ]
    }
   ],
   "source": [
    "if(number > 0):\n",
    "    print(\"User has entered positive number: \", number)"
   ]
  },
  {
   "cell_type": "code",
   "execution_count": 14,
   "id": "3d275e2a",
   "metadata": {},
   "outputs": [
    {
     "name": "stdout",
     "output_type": "stream",
     "text": [
      "User has entered negative number:  -12\n"
     ]
    }
   ],
   "source": [
    "if(number > 0):\n",
    "    print(\"User has entered positive number: \", number)\n",
    "else :\n",
    "    print(\"User has entered negative number: \", number)"
   ]
  },
  {
   "cell_type": "code",
   "execution_count": 15,
   "id": "9c20fc00",
   "metadata": {},
   "outputs": [
    {
     "name": "stdout",
     "output_type": "stream",
     "text": [
      "User has entered negative number:  -12\n"
     ]
    }
   ],
   "source": [
    "if number > 0 :\n",
    "    print(\"User has entered positive number: \", number)\n",
    "elif number == 0:\n",
    "    print(\"Its a zero\", 0)\n",
    "else :\n",
    "    print(\"User has entered negative number: \", number)"
   ]
  },
  {
   "cell_type": "markdown",
   "id": "e99252ec",
   "metadata": {},
   "source": [
    "## while"
   ]
  },
  {
   "cell_type": "code",
   "execution_count": 17,
   "id": "887ccc5e",
   "metadata": {},
   "outputs": [
    {
     "name": "stdout",
     "output_type": "stream",
     "text": [
      "1\n",
      "2\n",
      "3\n",
      "4\n",
      "5\n",
      "6\n",
      "7\n",
      "8\n",
      "9\n",
      "10\n"
     ]
    }
   ],
   "source": [
    "index = 1\n",
    "while index <= 10:\n",
    "    print(index)\n",
    "    index += 1"
   ]
  },
  {
   "cell_type": "code",
   "execution_count": 18,
   "id": "f457f8a3",
   "metadata": {},
   "outputs": [],
   "source": [
    "r = list(range(1, 10, 2))"
   ]
  },
  {
   "cell_type": "code",
   "execution_count": 20,
   "id": "ba4891ae",
   "metadata": {},
   "outputs": [
    {
     "name": "stdout",
     "output_type": "stream",
     "text": [
      "1\n",
      "3\n",
      "5\n",
      "7\n",
      "9\n"
     ]
    }
   ],
   "source": [
    "for i in r:\n",
    "    print(i)"
   ]
  },
  {
   "cell_type": "code",
   "execution_count": 21,
   "id": "a0f59e84",
   "metadata": {},
   "outputs": [
    {
     "name": "stdout",
     "output_type": "stream",
     "text": [
      "['Amazon', 'Flipkart', 'Snapdeal']\n"
     ]
    }
   ],
   "source": [
    "company_names = [\"Amazon\", \"Flipkart\", \"Snapdeal\"]\n",
    "print(company_names)"
   ]
  },
  {
   "cell_type": "code",
   "execution_count": 25,
   "id": "e2b727e2",
   "metadata": {},
   "outputs": [],
   "source": [
    "# Convert all the company names into websites\n",
    "\n",
    "website = []\n",
    "\n",
    "for i in company_names:\n",
    "    website.append(\"www.\"+i+\".com\")"
   ]
  },
  {
   "cell_type": "code",
   "execution_count": 26,
   "id": "d81d7a7f",
   "metadata": {},
   "outputs": [
    {
     "name": "stdout",
     "output_type": "stream",
     "text": [
      "['www.Amazon.com', 'www.Flipkart.com', 'www.Snapdeal.com']\n"
     ]
    }
   ],
   "source": [
    "print(website)"
   ]
  },
  {
   "cell_type": "code",
   "execution_count": 27,
   "id": "794f1650",
   "metadata": {},
   "outputs": [],
   "source": [
    "vk = {\"name\":\"Virat\", \"Age\":35, \"Team\":\"RBC\"}"
   ]
  },
  {
   "cell_type": "code",
   "execution_count": 28,
   "id": "b8970b43",
   "metadata": {},
   "outputs": [
    {
     "name": "stdout",
     "output_type": "stream",
     "text": [
      "name\n",
      "Age\n",
      "Team\n"
     ]
    }
   ],
   "source": [
    "for i in vk:\n",
    "    print(i)"
   ]
  },
  {
   "cell_type": "code",
   "execution_count": 29,
   "id": "faea49e7",
   "metadata": {},
   "outputs": [
    {
     "name": "stdout",
     "output_type": "stream",
     "text": [
      "('name', 'Virat')\n",
      "('Age', 35)\n",
      "('Team', 'RBC')\n"
     ]
    }
   ],
   "source": [
    "for i in vk.items():\n",
    "    print(i)"
   ]
  },
  {
   "cell_type": "code",
   "execution_count": 30,
   "id": "a7f3ac12",
   "metadata": {},
   "outputs": [
    {
     "name": "stdout",
     "output_type": "stream",
     "text": [
      "name Virat\n",
      "Age 35\n",
      "Team RBC\n"
     ]
    }
   ],
   "source": [
    "for i, j in vk.items():\n",
    "    print(i, j)"
   ]
  },
  {
   "cell_type": "code",
   "execution_count": 32,
   "id": "41d6b70f",
   "metadata": {},
   "outputs": [
    {
     "name": "stdout",
     "output_type": "stream",
     "text": [
      "0 www.Amazon.com\n",
      "1 www.Flipkart.com\n",
      "2 www.Snapdeal.com\n"
     ]
    }
   ],
   "source": [
    "# enumerate function => add index name\n",
    "for i, j in enumerate(website):\n",
    "    print(i, j)"
   ]
  },
  {
   "cell_type": "markdown",
   "id": "18d51d19",
   "metadata": {},
   "source": [
    "# Break"
   ]
  },
  {
   "cell_type": "code",
   "execution_count": 34,
   "id": "c5ef797c",
   "metadata": {},
   "outputs": [
    {
     "name": "stdout",
     "output_type": "stream",
     "text": [
      "1\n",
      "2\n",
      "3\n",
      "4\n",
      "5\n"
     ]
    }
   ],
   "source": [
    "for i in range(1, 11):\n",
    "    print(i)\n",
    "    if i == 5:\n",
    "        break"
   ]
  },
  {
   "cell_type": "markdown",
   "id": "e94d53b2",
   "metadata": {},
   "source": [
    "# Continue"
   ]
  },
  {
   "cell_type": "code",
   "execution_count": 39,
   "id": "a60daec2",
   "metadata": {},
   "outputs": [
    {
     "name": "stdout",
     "output_type": "stream",
     "text": [
      "1\n",
      "3\n",
      "5\n",
      "7\n",
      "9\n"
     ]
    }
   ],
   "source": [
    "for i in range(1, 11):\n",
    "    if i%2 == 0:\n",
    "        continue\n",
    "    print(i)"
   ]
  },
  {
   "cell_type": "markdown",
   "id": "098593ed",
   "metadata": {},
   "source": [
    "# Pass"
   ]
  },
  {
   "cell_type": "code",
   "execution_count": 42,
   "id": "34d207c3",
   "metadata": {},
   "outputs": [],
   "source": [
    "for i in range(1, 11):\n",
    "    pass"
   ]
  },
  {
   "cell_type": "markdown",
   "id": "6063b3a5",
   "metadata": {},
   "source": [
    "## Exercise 1\n",
    "- take an input from the user and print the reverese of the number\n",
    "- input = 123\n",
    "- output = 321"
   ]
  },
  {
   "cell_type": "code",
   "execution_count": 45,
   "id": "30dfefc2",
   "metadata": {},
   "outputs": [
    {
     "name": "stdout",
     "output_type": "stream",
     "text": [
      "Enter a number: 123\n",
      "Reverse:  321\n"
     ]
    }
   ],
   "source": [
    "num = input(\"Enter a number: \")\n",
    "print(\"Reverse: \", num[::-1])"
   ]
  },
  {
   "cell_type": "markdown",
   "id": "661e179d",
   "metadata": {},
   "source": [
    "- Write a progrsm to get the sum of all the elements in the list\n",
    "- num = {1, 2, 3}\n",
    "- output = 6"
   ]
  },
  {
   "cell_type": "code",
   "execution_count": 47,
   "id": "c3dfdd22",
   "metadata": {},
   "outputs": [
    {
     "name": "stdout",
     "output_type": "stream",
     "text": [
      "6\n"
     ]
    }
   ],
   "source": [
    "num = [1, 2, 3]\n",
    "sum = 0\n",
    "for i in num:\n",
    "    sum += i\n",
    "print(sum)"
   ]
  },
  {
   "cell_type": "code",
   "execution_count": 49,
   "id": "4224f356",
   "metadata": {},
   "outputs": [],
   "source": [
    "num = [1, 2, 3]"
   ]
  },
  {
   "cell_type": "code",
   "execution_count": 50,
   "id": "e5ccc405",
   "metadata": {},
   "outputs": [
    {
     "ename": "TypeError",
     "evalue": "'int' object is not callable",
     "output_type": "error",
     "traceback": [
      "\u001b[1;31m---------------------------------------------------------------------------\u001b[0m",
      "\u001b[1;31mTypeError\u001b[0m                                 Traceback (most recent call last)",
      "\u001b[1;32m~\\AppData\\Local\\Temp\\ipykernel_15368\\1241343723.py\u001b[0m in \u001b[0;36m<module>\u001b[1;34m\u001b[0m\n\u001b[1;32m----> 1\u001b[1;33m \u001b[0msum\u001b[0m\u001b[1;33m(\u001b[0m\u001b[0mnum\u001b[0m\u001b[1;33m)\u001b[0m\u001b[1;33m\u001b[0m\u001b[1;33m\u001b[0m\u001b[0m\n\u001b[0m",
      "\u001b[1;31mTypeError\u001b[0m: 'int' object is not callable"
     ]
    }
   ],
   "source": []
  }
 ],
 "metadata": {
  "kernelspec": {
   "display_name": "Python 3 (ipykernel)",
   "language": "python",
   "name": "python3"
  },
  "language_info": {
   "codemirror_mode": {
    "name": "ipython",
    "version": 3
   },
   "file_extension": ".py",
   "mimetype": "text/x-python",
   "name": "python",
   "nbconvert_exporter": "python",
   "pygments_lexer": "ipython3",
   "version": "3.9.13"
  }
 },
 "nbformat": 4,
 "nbformat_minor": 5
}
