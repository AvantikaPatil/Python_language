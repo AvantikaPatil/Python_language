{
 "cells": [
  {
   "cell_type": "code",
   "execution_count": 1,
   "id": "7de844fb",
   "metadata": {},
   "outputs": [],
   "source": [
    "# class is combination of variables and functions, access via objects\n",
    "# Templates - used for creating objects\n",
    "# Instance - class object\n",
    "# Reuse, ease in maintaince, code break down etc."
   ]
  },
  {
   "cell_type": "code",
   "execution_count": 2,
   "id": "bef517d6",
   "metadata": {},
   "outputs": [],
   "source": [
    "# todo # class\n",
    "class Employee:\n",
    "    pass"
   ]
  },
  {
   "cell_type": "code",
   "execution_count": 3,
   "id": "78994d7a",
   "metadata": {},
   "outputs": [],
   "source": [
    "# todo # object\n",
    "e1 = Employee()\n",
    "e2 = Employee()"
   ]
  },
  {
   "cell_type": "code",
   "execution_count": 4,
   "id": "09ef3dbc",
   "metadata": {},
   "outputs": [
    {
     "name": "stdout",
     "output_type": "stream",
     "text": [
      "Type of e1:  <__main__.Employee object at 0x0000012A06383160>\n",
      "Type of e1:  <__main__.Employee object at 0x0000012A06383D30>\n"
     ]
    }
   ],
   "source": [
    "# todo # type of object\n",
    "print(\"Type of e1: \", e1)\n",
    "print(\"Type of e1: \", e2)"
   ]
  },
  {
   "cell_type": "code",
   "execution_count": 5,
   "id": "a37d3afa",
   "metadata": {},
   "outputs": [
    {
     "name": "stdout",
     "output_type": "stream",
     "text": [
      "Location of e1: 1280004600160\n",
      "Location of e1: 1280004603184\n"
     ]
    }
   ],
   "source": [
    "# todo # location\n",
    "print(\"Location of e1:\", id(e1))\n",
    "print(\"Location of e1:\", id(e2))"
   ]
  },
  {
   "cell_type": "code",
   "execution_count": 6,
   "id": "9f2e70ad",
   "metadata": {},
   "outputs": [],
   "source": [
    "class Employee:\n",
    "    '''Help: An employee class documentation\n",
    "        The instance of class can be used to create and manage employee data\n",
    "        It store information like name, id, education etc'''\n",
    "    pass"
   ]
  },
  {
   "cell_type": "code",
   "execution_count": 7,
   "id": "29ce3b1f",
   "metadata": {},
   "outputs": [
    {
     "name": "stdout",
     "output_type": "stream",
     "text": [
      "Help on class Employee in module __main__:\n",
      "\n",
      "class Employee(builtins.object)\n",
      " |  Help: An employee class documentation\n",
      " |  The instance of class can be used to create and manage employee data\n",
      " |  It store information like name, id, education etc\n",
      " |  \n",
      " |  Data descriptors defined here:\n",
      " |  \n",
      " |  __dict__\n",
      " |      dictionary for instance variables (if defined)\n",
      " |  \n",
      " |  __weakref__\n",
      " |      list of weak references to the object (if defined)\n",
      "\n"
     ]
    }
   ],
   "source": [
    "help(Employee)"
   ]
  },
  {
   "cell_type": "code",
   "execution_count": 8,
   "id": "17e2e5f1",
   "metadata": {},
   "outputs": [],
   "source": [
    "class Employee:\n",
    "    def __init__(self, firstname, lastname):\n",
    "        self.firstname = firstname\n",
    "        self.lastname = lastname"
   ]
  },
  {
   "cell_type": "code",
   "execution_count": 9,
   "id": "124c3a1b",
   "metadata": {},
   "outputs": [
    {
     "name": "stdout",
     "output_type": "stream",
     "text": [
      "e1 dict {'firstname': 'Avantika', 'lastname': 'Patil'}\n"
     ]
    }
   ],
   "source": [
    "e1 = Employee(\"Avantika\", \"Patil\")\n",
    "print(\"e1 dict\", e1.__dict__)"
   ]
  },
  {
   "cell_type": "code",
   "execution_count": 11,
   "id": "daab5393",
   "metadata": {},
   "outputs": [
    {
     "name": "stdout",
     "output_type": "stream",
     "text": [
      "e2 dict {'firstname': 'Ashutosh', 'lastname': 'Patil'}\n"
     ]
    }
   ],
   "source": [
    "e2 = Employee(\"Ashutosh\", \"Patil\")\n",
    "print(\"e2 dict\", e2.__dict__)"
   ]
  },
  {
   "cell_type": "code",
   "execution_count": 12,
   "id": "e51252c6",
   "metadata": {},
   "outputs": [
    {
     "data": {
      "text/plain": [
       "'Ashutosh'"
      ]
     },
     "execution_count": 12,
     "metadata": {},
     "output_type": "execute_result"
    }
   ],
   "source": [
    "e2.firstname"
   ]
  },
  {
   "cell_type": "code",
   "execution_count": 16,
   "id": "78cd20b7",
   "metadata": {},
   "outputs": [],
   "source": [
    "class student:\n",
    "    def __init__(self, name):\n",
    "        self.name = name\n",
    "        self.marks = []"
   ]
  },
  {
   "cell_type": "code",
   "execution_count": 18,
   "id": "d7fd2e3a",
   "metadata": {},
   "outputs": [],
   "source": [
    "s1 = student(\"Avantika\")"
   ]
  },
  {
   "cell_type": "code",
   "execution_count": 19,
   "id": "94c469c0",
   "metadata": {},
   "outputs": [
    {
     "data": {
      "text/plain": [
       "{'name': 'Avantika', 'marks': []}"
      ]
     },
     "execution_count": 19,
     "metadata": {},
     "output_type": "execute_result"
    }
   ],
   "source": [
    "s1.__dict__"
   ]
  },
  {
   "cell_type": "code",
   "execution_count": 28,
   "id": "0bd700d3",
   "metadata": {},
   "outputs": [],
   "source": [
    "class student:\n",
    "    def __init__(self, name):\n",
    "        self.name = name\n",
    "        self.grade = []\n",
    "    def addmarks(self, marks):\n",
    "        self.grade.append(marks)\n",
    "    def getavg(self):\n",
    "        return sum(self.grade)/len(self.grade)"
   ]
  },
  {
   "cell_type": "code",
   "execution_count": 60,
   "id": "828f0ba2",
   "metadata": {},
   "outputs": [],
   "source": [
    "s1 = student(\"Avantika\")"
   ]
  },
  {
   "cell_type": "code",
   "execution_count": 61,
   "id": "277152d7",
   "metadata": {},
   "outputs": [],
   "source": [
    "s1.addmarks(80)"
   ]
  },
  {
   "cell_type": "code",
   "execution_count": 31,
   "id": "3cebb575",
   "metadata": {},
   "outputs": [
    {
     "data": {
      "text/plain": [
       "{'name': 'Avantika', 'grade': [80]}"
      ]
     },
     "execution_count": 31,
     "metadata": {},
     "output_type": "execute_result"
    }
   ],
   "source": [
    "s1.__dict__"
   ]
  },
  {
   "cell_type": "code",
   "execution_count": 62,
   "id": "8d932492",
   "metadata": {},
   "outputs": [],
   "source": [
    "s1.addmarks(90)"
   ]
  },
  {
   "cell_type": "code",
   "execution_count": 34,
   "id": "dc6503ab",
   "metadata": {},
   "outputs": [
    {
     "data": {
      "text/plain": [
       "{'name': 'Avantika', 'grade': [80, 90]}"
      ]
     },
     "execution_count": 34,
     "metadata": {},
     "output_type": "execute_result"
    }
   ],
   "source": [
    "s1.__dict__"
   ]
  },
  {
   "cell_type": "code",
   "execution_count": 35,
   "id": "134a0aa0",
   "metadata": {},
   "outputs": [
    {
     "data": {
      "text/plain": [
       "85.0"
      ]
     },
     "execution_count": 35,
     "metadata": {},
     "output_type": "execute_result"
    }
   ],
   "source": [
    "s1.getavg()"
   ]
  },
  {
   "cell_type": "code",
   "execution_count": 63,
   "id": "c76c98e7",
   "metadata": {},
   "outputs": [],
   "source": [
    "s1.addmarks(70)"
   ]
  },
  {
   "cell_type": "code",
   "execution_count": 64,
   "id": "3eba5412",
   "metadata": {},
   "outputs": [
    {
     "data": {
      "text/plain": [
       "{'name': 'Avantika', 'grade': [80, 90, 70]}"
      ]
     },
     "execution_count": 64,
     "metadata": {},
     "output_type": "execute_result"
    }
   ],
   "source": [
    "s1.__dict__"
   ]
  },
  {
   "cell_type": "code",
   "execution_count": 38,
   "id": "f383a54b",
   "metadata": {},
   "outputs": [
    {
     "data": {
      "text/plain": [
       "'Avantika'"
      ]
     },
     "execution_count": 38,
     "metadata": {},
     "output_type": "execute_result"
    }
   ],
   "source": [
    "s1.name"
   ]
  },
  {
   "cell_type": "code",
   "execution_count": 65,
   "id": "04412933",
   "metadata": {},
   "outputs": [
    {
     "data": {
      "text/plain": [
       "[80, 90, 70]"
      ]
     },
     "execution_count": 65,
     "metadata": {},
     "output_type": "execute_result"
    }
   ],
   "source": [
    "s1.grade"
   ]
  },
  {
   "cell_type": "code",
   "execution_count": 66,
   "id": "2b6411ec",
   "metadata": {},
   "outputs": [
    {
     "data": {
      "text/plain": [
       "{'name': 'Avantika', 'grade': [80, 90, 70]}"
      ]
     },
     "execution_count": 66,
     "metadata": {},
     "output_type": "execute_result"
    }
   ],
   "source": [
    "s1.__dict__"
   ]
  },
  {
   "cell_type": "code",
   "execution_count": 59,
   "id": "af75e37e",
   "metadata": {},
   "outputs": [],
   "source": [
    "class student:\n",
    "    def __init__(self, name):\n",
    "        self.name = name\n",
    "        self.grade = []\n",
    "    def addmarks(self, marks):\n",
    "        self.grade.append(marks)\n",
    "    def maxmarks(self):\n",
    "        return max(self.grade)\n",
    "    def minmarks(self):\n",
    "        return min(self.grade)\n",
    "    def getavg(self):\n",
    "        return sum(self.grade)/len(self.grade)"
   ]
  },
  {
   "cell_type": "code",
   "execution_count": 67,
   "id": "495398da",
   "metadata": {},
   "outputs": [
    {
     "data": {
      "text/plain": [
       "90"
      ]
     },
     "execution_count": 67,
     "metadata": {},
     "output_type": "execute_result"
    }
   ],
   "source": [
    "s1.maxmarks()"
   ]
  },
  {
   "cell_type": "code",
   "execution_count": 68,
   "id": "dcd66559",
   "metadata": {},
   "outputs": [
    {
     "data": {
      "text/plain": [
       "70"
      ]
     },
     "execution_count": 68,
     "metadata": {},
     "output_type": "execute_result"
    }
   ],
   "source": [
    "s1.minmarks()"
   ]
  },
  {
   "cell_type": "code",
   "execution_count": 5,
   "id": "bc3ce479",
   "metadata": {},
   "outputs": [],
   "source": [
    "class Employee:\n",
    "    def __init__(self, firstname, lastname, age, salary):\n",
    "        self.firstname = firstname\n",
    "        self.lastname = lastname\n",
    "        self.age = age\n",
    "        self.salary = salary\n",
    "        self.emailid = \"{}{}gmail.com\".format(self.firstname, self.lastname)\n",
    "    def printDetails(self):\n",
    "        print(\"Employee details: Name: {}, Last Name: {}, Age: {}, Salary: {}, Emqail: {}\".format(self.firstname, self.lastname, self.age, self.salary, self.emailid))"
   ]
  },
  {
   "cell_type": "code",
   "execution_count": 12,
   "id": "0c5b634f",
   "metadata": {},
   "outputs": [],
   "source": [
    "e1 = Employee(\"Avantika\", \"Patil\", 21, 100000)"
   ]
  },
  {
   "cell_type": "code",
   "execution_count": 7,
   "id": "49c24e6e",
   "metadata": {},
   "outputs": [
    {
     "data": {
      "text/plain": [
       "{'firstname': 'Avantika',\n",
       " 'lastname': 'Patil',\n",
       " 'age': 21,\n",
       " 'salary': 100000,\n",
       " 'emailid': 'AvantikaPatilgmail.com'}"
      ]
     },
     "execution_count": 7,
     "metadata": {},
     "output_type": "execute_result"
    }
   ],
   "source": [
    "e1.__dict__"
   ]
  },
  {
   "cell_type": "code",
   "execution_count": 8,
   "id": "783e7f32",
   "metadata": {},
   "outputs": [
    {
     "name": "stdout",
     "output_type": "stream",
     "text": [
      "Employee details: Name: Avantika, Last Name: Patil, Age: 21, Salary: 100000, Emqail: AvantikaPatilgmail.com\n"
     ]
    }
   ],
   "source": [
    "e1.printDetails()"
   ]
  },
  {
   "cell_type": "code",
   "execution_count": 14,
   "id": "7d88b056",
   "metadata": {},
   "outputs": [],
   "source": [
    "e2 = Employee(\"Ashutosh\", \"Patil\", 24, 100000)"
   ]
  },
  {
   "cell_type": "code",
   "execution_count": 10,
   "id": "da4a130f",
   "metadata": {},
   "outputs": [
    {
     "name": "stdout",
     "output_type": "stream",
     "text": [
      "Employee details: Name: Ashutosh, Last Name: Patil, Age: 24, Salary: 100000, Emqail: AshutoshPatilgmail.com\n"
     ]
    }
   ],
   "source": [
    "e2.printDetails()"
   ]
  },
  {
   "cell_type": "code",
   "execution_count": 16,
   "id": "e8ab7fe2",
   "metadata": {},
   "outputs": [],
   "source": [
    "# Employee Count -\n",
    "\n",
    "class Employee:\n",
    "    employee_count = 0\n",
    "    def __init__(self, firstname, lastname, age, salary):\n",
    "        self.firstname = firstname\n",
    "        self.lastname = lastname\n",
    "        self.age = age\n",
    "        self.salary = salary\n",
    "        self.emailid = \"{}{}gmail.com\".format(self.firstname, self.lastname)\n",
    "        self.eid = Employee.employee_count\n",
    "        Employee.employee_count += 1\n",
    "    def printDetails(self):\n",
    "        print(\"Employee details: Name: {}, Last Name: {}, Age: {}, Salary: {}, Emqail: {}\".format(self.firstname, self.lastname, self.age, self.salary, self.emailid))\n",
    "    def getEmployeeCount(cls):\n",
    "        return cls.__employee_count"
   ]
  },
  {
   "cell_type": "code",
   "execution_count": 13,
   "id": "2863e200",
   "metadata": {},
   "outputs": [
    {
     "data": {
      "text/plain": [
       "1"
      ]
     },
     "execution_count": 13,
     "metadata": {},
     "output_type": "execute_result"
    }
   ],
   "source": [
    "e1.employee_count"
   ]
  },
  {
   "cell_type": "code",
   "execution_count": 15,
   "id": "4fc2f83e",
   "metadata": {},
   "outputs": [
    {
     "data": {
      "text/plain": [
       "2"
      ]
     },
     "execution_count": 15,
     "metadata": {},
     "output_type": "execute_result"
    }
   ],
   "source": [
    "e2.employee_count"
   ]
  },
  {
   "cell_type": "code",
   "execution_count": null,
   "id": "611303ad",
   "metadata": {},
   "outputs": [],
   "source": []
  },
  {
   "cell_type": "code",
   "execution_count": null,
   "id": "9c4f8f3e",
   "metadata": {},
   "outputs": [],
   "source": []
  },
  {
   "cell_type": "code",
   "execution_count": null,
   "id": "f7edf1ac",
   "metadata": {},
   "outputs": [],
   "source": []
  }
 ],
 "metadata": {
  "kernelspec": {
   "display_name": "Python 3 (ipykernel)",
   "language": "python",
   "name": "python3"
  },
  "language_info": {
   "codemirror_mode": {
    "name": "ipython",
    "version": 3
   },
   "file_extension": ".py",
   "mimetype": "text/x-python",
   "name": "python",
   "nbconvert_exporter": "python",
   "pygments_lexer": "ipython3",
   "version": "3.9.13"
  }
 },
 "nbformat": 4,
 "nbformat_minor": 5
}
