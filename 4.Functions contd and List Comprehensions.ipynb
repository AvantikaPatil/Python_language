{
 "cells": [
  {
   "cell_type": "markdown",
   "id": "ddcadb7b",
   "metadata": {},
   "source": [
    "## Args and Kwargs\n",
    "- args"
   ]
  },
  {
   "cell_type": "code",
   "execution_count": 5,
   "id": "70160bd8",
   "metadata": {},
   "outputs": [],
   "source": [
    "def sumofnumbers(x, y):\n",
    "    return x + y"
   ]
  },
  {
   "cell_type": "code",
   "execution_count": 3,
   "id": "726fa95c",
   "metadata": {},
   "outputs": [
    {
     "data": {
      "text/plain": [
       "5"
      ]
     },
     "execution_count": 3,
     "metadata": {},
     "output_type": "execute_result"
    }
   ],
   "source": [
    "sumofnumbers(2, 3)"
   ]
  },
  {
   "cell_type": "code",
   "execution_count": 7,
   "id": "4950ee84",
   "metadata": {},
   "outputs": [],
   "source": [
    "# \"*args\" is help to pass no. of parameter at a time\n",
    "def sumofnumsusingargs(*args):\n",
    "    print(\"Args\", args)\n",
    "    print(\"Type of Args: \", type(args))"
   ]
  },
  {
   "cell_type": "code",
   "execution_count": 8,
   "id": "76987f9b",
   "metadata": {},
   "outputs": [
    {
     "name": "stdout",
     "output_type": "stream",
     "text": [
      "Args (2, 3, 4)\n",
      "Type of Args:  <class 'tuple'>\n"
     ]
    }
   ],
   "source": [
    "sumofnumsusingargs(2, 3, 4)"
   ]
  },
  {
   "cell_type": "code",
   "execution_count": 10,
   "id": "8c59ae22",
   "metadata": {},
   "outputs": [],
   "source": [
    "def sumofnumsusingargs(*args):\n",
    "    print(\"Args\", args)\n",
    "    print(\"Type of Args: \", type(args))\n",
    "    return(sum(args))"
   ]
  },
  {
   "cell_type": "code",
   "execution_count": 11,
   "id": "ee56364f",
   "metadata": {},
   "outputs": [
    {
     "name": "stdout",
     "output_type": "stream",
     "text": [
      "Args (2, 3, 4, 5)\n",
      "Type of Args:  <class 'tuple'>\n"
     ]
    },
    {
     "data": {
      "text/plain": [
       "14"
      ]
     },
     "execution_count": 11,
     "metadata": {},
     "output_type": "execute_result"
    }
   ],
   "source": [
    "sumofnumsusingargs(2, 3, 4, 5)"
   ]
  },
  {
   "cell_type": "code",
   "execution_count": 12,
   "id": "eba9a264",
   "metadata": {},
   "outputs": [],
   "source": [
    "def sumofnumsusingargs(*args):\n",
    "    print(\"Args\", args)\n",
    "    print(\"Type of Args: \", type(args))\n",
    "    return(sum(args))\n",
    "    result = 0\n",
    "    for i in args:\n",
    "        result = result + i\n",
    "    print(\"result = \", result)"
   ]
  },
  {
   "cell_type": "code",
   "execution_count": 13,
   "id": "74f5085a",
   "metadata": {},
   "outputs": [
    {
     "name": "stdout",
     "output_type": "stream",
     "text": [
      "Args (2, 3, 4, 5, 6)\n",
      "Type of Args:  <class 'tuple'>\n"
     ]
    },
    {
     "data": {
      "text/plain": [
       "20"
      ]
     },
     "execution_count": 13,
     "metadata": {},
     "output_type": "execute_result"
    }
   ],
   "source": [
    "sumofnumsusingargs(2, 3, 4, 5, 6)"
   ]
  },
  {
   "cell_type": "code",
   "execution_count": 17,
   "id": "0e1de68c",
   "metadata": {},
   "outputs": [
    {
     "name": "stdout",
     "output_type": "stream",
     "text": [
      "Args (1, 2, 3)\n",
      "Type of Args:  <class 'tuple'>\n"
     ]
    },
    {
     "data": {
      "text/plain": [
       "6"
      ]
     },
     "execution_count": 17,
     "metadata": {},
     "output_type": "execute_result"
    }
   ],
   "source": [
    "# After passing no. of argument by using *args, this arguments become tuple\n",
    "# if we directly pass tuple, then we havr 2 type to pass tuple which is created by user\n",
    "\n",
    "t = (1, 2, 3, 4, 5)\n",
    "\n",
    "sumofnumsusingargs(t[0], t[1], t[2])"
   ]
  },
  {
   "cell_type": "code",
   "execution_count": 18,
   "id": "f405a03f",
   "metadata": {},
   "outputs": [
    {
     "name": "stdout",
     "output_type": "stream",
     "text": [
      "Args (1, 2, 3, 4, 5)\n",
      "Type of Args:  <class 'tuple'>\n"
     ]
    },
    {
     "data": {
      "text/plain": [
       "15"
      ]
     },
     "execution_count": 18,
     "metadata": {},
     "output_type": "execute_result"
    }
   ],
   "source": [
    "sumofnumsusingargs(*t)"
   ]
  },
  {
   "cell_type": "code",
   "execution_count": 24,
   "id": "5cf4e3ac",
   "metadata": {},
   "outputs": [
    {
     "name": "stdout",
     "output_type": "stream",
     "text": [
      "avantika6141@gmail.com"
     ]
    }
   ],
   "source": [
    "def s(*args):\n",
    "    for i in args:\n",
    "        print(i, end=\"\")\n",
    "s(\"avantika\", 6141, \"@gmail.com\")"
   ]
  },
  {
   "cell_type": "code",
   "execution_count": 35,
   "id": "ddafaab5",
   "metadata": {},
   "outputs": [],
   "source": [
    "def meanofnum(*args):\n",
    "    result = 0\n",
    "    for i in args:\n",
    "        result = result + i\n",
    "    print(result/length())\n",
    "    \n",
    "\n"
   ]
  },
  {
   "cell_type": "code",
   "execution_count": null,
   "id": "b47858d3",
   "metadata": {},
   "outputs": [],
   "source": [
    "# Create a program for "
   ]
  },
  {
   "cell_type": "code",
   "execution_count": 31,
   "id": "e643668b",
   "metadata": {},
   "outputs": [
    {
     "name": "stdout",
     "output_type": "stream",
     "text": [
      "Enter commna separted numbers: 12, 34, 45, 67, 78\n"
     ]
    }
   ],
   "source": [
    "userInput = input(\"Enter commna separted numbers: \")"
   ]
  },
  {
   "cell_type": "code",
   "execution_count": 32,
   "id": "0b69514e",
   "metadata": {},
   "outputs": [
    {
     "name": "stdout",
     "output_type": "stream",
     "text": [
      "12, 34, 45, 67, 78 <class 'str'>\n"
     ]
    }
   ],
   "source": [
    "print(userInput, type(userInput))"
   ]
  },
  {
   "cell_type": "code",
   "execution_count": 34,
   "id": "41a4bf1a",
   "metadata": {},
   "outputs": [],
   "source": [
    "lst_num = userInput.split(\",\")"
   ]
  },
  {
   "cell_type": "code",
   "execution_count": 36,
   "id": "d1021aa4",
   "metadata": {},
   "outputs": [
    {
     "data": {
      "text/plain": [
       "['12', ' 34', ' 45', ' 67', ' 78']"
      ]
     },
     "execution_count": 36,
     "metadata": {},
     "output_type": "execute_result"
    }
   ],
   "source": [
    "lst_num"
   ]
  },
  {
   "cell_type": "code",
   "execution_count": 38,
   "id": "f034b1f1",
   "metadata": {},
   "outputs": [],
   "source": [
    "new_list = []\n",
    "for i in lst_num:\n",
    "    new_list.append(int(i))"
   ]
  },
  {
   "cell_type": "code",
   "execution_count": 39,
   "id": "b628be86",
   "metadata": {},
   "outputs": [
    {
     "ename": "TypeError",
     "evalue": "int() argument must be a string, a bytes-like object or a number, not 'list'",
     "output_type": "error",
     "traceback": [
      "\u001b[1;31m---------------------------------------------------------------------------\u001b[0m",
      "\u001b[1;31mTypeError\u001b[0m                                 Traceback (most recent call last)",
      "\u001b[1;32m~\\AppData\\Local\\Temp\\ipykernel_1324\\1469776760.py\u001b[0m in \u001b[0;36m<module>\u001b[1;34m\u001b[0m\n\u001b[1;32m----> 1\u001b[1;33m \u001b[0mint\u001b[0m\u001b[1;33m(\u001b[0m\u001b[0mlst_num\u001b[0m\u001b[1;33m)\u001b[0m\u001b[1;33m\u001b[0m\u001b[1;33m\u001b[0m\u001b[0m\n\u001b[0m",
      "\u001b[1;31mTypeError\u001b[0m: int() argument must be a string, a bytes-like object or a number, not 'list'"
     ]
    }
   ],
   "source": [
    "int(lst_num)"
   ]
  },
  {
   "cell_type": "code",
   "execution_count": 40,
   "id": "de7ed05f",
   "metadata": {},
   "outputs": [
    {
     "data": {
      "text/plain": [
       "[12, 34, 45, 67, 78]"
      ]
     },
     "execution_count": 40,
     "metadata": {},
     "output_type": "execute_result"
    }
   ],
   "source": [
    "new_list"
   ]
  },
  {
   "cell_type": "code",
   "execution_count": 42,
   "id": "96c64766",
   "metadata": {},
   "outputs": [
    {
     "name": "stdout",
     "output_type": "stream",
     "text": [
      "Args (12, 34, 45, 67, 78)\n",
      "Type of Args:  <class 'tuple'>\n"
     ]
    },
    {
     "data": {
      "text/plain": [
       "236"
      ]
     },
     "execution_count": 42,
     "metadata": {},
     "output_type": "execute_result"
    }
   ],
   "source": [
    "sumofnumsusingargs(*new_list)"
   ]
  },
  {
   "cell_type": "code",
   "execution_count": 43,
   "id": "73cba1a5",
   "metadata": {},
   "outputs": [],
   "source": [
    "# when we use **Kwargs, arguments combined as a dictionary(in key-value pairs)\n",
    "def playerdetails(**kwargs):\n",
    "    for k, v in kwargs.items():\n",
    "        print(\"k -> {}, v-> {}\".format(k, v))"
   ]
  },
  {
   "cell_type": "code",
   "execution_count": 45,
   "id": "41e2e17e",
   "metadata": {},
   "outputs": [
    {
     "name": "stdout",
     "output_type": "stream",
     "text": [
      "k -> name, v-> Virat\n",
      "k -> age, v-> 33\n",
      "k -> Team, v-> RCB\n"
     ]
    }
   ],
   "source": [
    "playerdetails(name=\"Virat\", age=\"33\", Team=\"RCB\")"
   ]
  },
  {
   "cell_type": "code",
   "execution_count": 46,
   "id": "4eed2468",
   "metadata": {},
   "outputs": [],
   "source": [
    "def playerdetails(**kwargs):\n",
    "    for k in kwargs.items():\n",
    "        print(\"{}\".format(k))"
   ]
  },
  {
   "cell_type": "code",
   "execution_count": 47,
   "id": "c7f5d7f0",
   "metadata": {},
   "outputs": [
    {
     "name": "stdout",
     "output_type": "stream",
     "text": [
      "('name', 'Virat')\n",
      "('age', '33')\n",
      "('Team', 'RCB')\n"
     ]
    }
   ],
   "source": [
    "playerdetails(name=\"Virat\", age=\"33\", Team=\"RCB\")"
   ]
  },
  {
   "cell_type": "code",
   "execution_count": 50,
   "id": "72174734",
   "metadata": {},
   "outputs": [],
   "source": [
    "k = {\"name\":\"Avantika\", \"Age\": 19, \"salary\": 100000}"
   ]
  },
  {
   "cell_type": "code",
   "execution_count": 51,
   "id": "fb831e32",
   "metadata": {},
   "outputs": [
    {
     "name": "stdout",
     "output_type": "stream",
     "text": [
      "('name', 'Avantika')\n",
      "('Age', 19)\n",
      "('salary', 100000)\n"
     ]
    }
   ],
   "source": [
    "playerdetails(**k)"
   ]
  },
  {
   "cell_type": "markdown",
   "id": "32164143",
   "metadata": {},
   "source": [
    "# Comprehensions\n",
    "- List Comprehension"
   ]
  },
  {
   "cell_type": "code",
   "execution_count": 54,
   "id": "d0a835e5",
   "metadata": {},
   "outputs": [
    {
     "name": "stdout",
     "output_type": "stream",
     "text": [
      "r=  [1, 2, 3, 4, 5, 6, 7, 8, 9, 10]\n",
      "result = [1, 4, 9, 16, 25, 36, 49, 64, 81, 100]\n"
     ]
    }
   ],
   "source": [
    "r = range(1, 11)\n",
    "result = []\n",
    "for i in r:\n",
    "    result.append(i*i)\n",
    "print(\"r= \",list(r))\n",
    "print(\"result =\", result)"
   ]
  },
  {
   "cell_type": "code",
   "execution_count": 58,
   "id": "2feccbe9",
   "metadata": {},
   "outputs": [
    {
     "name": "stdout",
     "output_type": "stream",
     "text": [
      "{64, 1, 4, 36, 100, 9, 16, 49, 81, 25}\n"
     ]
    }
   ],
   "source": [
    "result_list = {item*item for item in range(1, 11)}\n",
    "print(result_list)"
   ]
  },
  {
   "cell_type": "code",
   "execution_count": 63,
   "id": "b0f1d19d",
   "metadata": {},
   "outputs": [
    {
     "name": "stdout",
     "output_type": "stream",
     "text": [
      "[2, 4, 6, 8, 10, 12, 14, 16, 18, 20]\n"
     ]
    }
   ],
   "source": [
    "# Print all numbers from 1 to 21 which are divisible by 2\n",
    "div = []\n",
    "for item in range(1, 22):\n",
    "    if item%2==0:\n",
    "        div.append(item)\n",
    "print(div)"
   ]
  },
  {
   "cell_type": "code",
   "execution_count": 64,
   "id": "64d1ece0",
   "metadata": {},
   "outputs": [
    {
     "data": {
      "text/plain": [
       "{2, 4, 6, 8, 10, 12, 14, 16, 18, 20}"
      ]
     },
     "execution_count": 64,
     "metadata": {},
     "output_type": "execute_result"
    }
   ],
   "source": [
    "even = {i for i in range(1, 22) if(i%2==0)}\n",
    "even"
   ]
  },
  {
   "cell_type": "code",
   "execution_count": 68,
   "id": "47907d57",
   "metadata": {},
   "outputs": [
    {
     "data": {
      "text/plain": [
       "{'C', 'H', 'M', 'S', 'T'}"
      ]
     },
     "execution_count": 68,
     "metadata": {},
     "output_type": "execute_result"
    }
   ],
   "source": [
    "# write a program to list of all characters from a subject which are consonants\n",
    "# input = \"MATHEMATICS\"\n",
    "# OUTPUT =[\"M\"]\n",
    "\n",
    "con = {i for i in \"MATHEMATICS\" if(i!=\"A\" and i!=\"E\" and i!=\"I\" and i!=\"O\" and i!=\"U\")}\n",
    "con"
   ]
  },
  {
   "cell_type": "code",
   "execution_count": 67,
   "id": "b474217d",
   "metadata": {},
   "outputs": [
    {
     "name": "stdout",
     "output_type": "stream",
     "text": [
      "['M', 'T', 'H', 'M', 'T', 'C', 'S']\n"
     ]
    }
   ],
   "source": [
    "con =[]\n",
    "for i in \"MATHEMATICS\":\n",
    "    if(i!=\"A\" and i!=\"E\" and i!=\"I\" and i!=\"O\" and i!=\"U\"):\n",
    "        con.append(i)\n",
    "print(con)"
   ]
  },
  {
   "cell_type": "code",
   "execution_count": 69,
   "id": "d25d53e6",
   "metadata": {},
   "outputs": [
    {
     "name": "stdout",
     "output_type": "stream",
     "text": [
      "['M', 'T', 'H', 'M', 'T', 'C', 'S']\n"
     ]
    }
   ],
   "source": [
    "result = [i for i in \"MATHEMATICS\" if i not in \"AEIOU\"]\n",
    "print(result)"
   ]
  },
  {
   "cell_type": "code",
   "execution_count": 70,
   "id": "c8008108",
   "metadata": {},
   "outputs": [
    {
     "name": "stdout",
     "output_type": "stream",
     "text": [
      "['www.amazon.com', 'www.flipkart.com', 'www.snapdeal.com']\n"
     ]
    }
   ],
   "source": [
    "# Websites = [\"amazon\", \"flipkart\", \"snapdeal\"]\n",
    "# Output = [\"www.amazon.com\", \"www.flipkart.com\", \"www.snapdeal.com\"]\n",
    "\n",
    "websites = [\"amazon\", \"flipkart\", \"snapdeal\"]\n",
    "result = [\"www.\"+i+\".com\" for i in websites ]\n",
    "print(result)"
   ]
  },
  {
   "cell_type": "code",
   "execution_count": 5,
   "id": "814667af",
   "metadata": {},
   "outputs": [],
   "source": [
    "s = \"Welcome to the world of python programming\"\n",
    "# Out = {}"
   ]
  },
  {
   "cell_type": "code",
   "execution_count": 7,
   "id": "1550e6a5",
   "metadata": {},
   "outputs": [],
   "source": [
    "result = []\n",
    "for i in s.split():\n",
    "    result.append((i, len(i)))"
   ]
  },
  {
   "cell_type": "code",
   "execution_count": 8,
   "id": "1299d0bc",
   "metadata": {},
   "outputs": [
    {
     "data": {
      "text/plain": [
       "[('Welcome', 7),\n",
       " ('to', 2),\n",
       " ('the', 3),\n",
       " ('world', 5),\n",
       " ('of', 2),\n",
       " ('python', 6),\n",
       " ('programming', 11)]"
      ]
     },
     "execution_count": 8,
     "metadata": {},
     "output_type": "execute_result"
    }
   ],
   "source": [
    "result"
   ]
  },
  {
   "cell_type": "code",
   "execution_count": 9,
   "id": "ae0273a2",
   "metadata": {},
   "outputs": [
    {
     "data": {
      "text/plain": [
       "[('Welcome', 7),\n",
       " ('to', 2),\n",
       " ('the', 3),\n",
       " ('world', 5),\n",
       " ('of', 2),\n",
       " ('python', 6),\n",
       " ('programming', 11)]"
      ]
     },
     "execution_count": 9,
     "metadata": {},
     "output_type": "execute_result"
    }
   ],
   "source": [
    "result = [(i, len(i)) for i in s.split()]\n",
    "result"
   ]
  },
  {
   "cell_type": "code",
   "execution_count": 11,
   "id": "e83a2980",
   "metadata": {},
   "outputs": [
    {
     "data": {
      "text/plain": [
       "[203, 217, 224, 231, 238, 252, 259, 266, 273, 287, 294, 301, 308]"
      ]
     },
     "execution_count": 11,
     "metadata": {},
     "output_type": "execute_result"
    }
   ],
   "source": [
    "# write a program which will find all such numbers which are divisible by 7 \n",
    "# but are not multiples of 5 between 200 to 320 (both ncluded)\n",
    "# the number obtain should be printed in comma separated sequqecnce on a single line\n",
    "\n",
    "result = []\n",
    "for i in range(200, 320):\n",
    "    if(i%7==0 and i%5!=0):\n",
    "        result.append(i)\n",
    "result"
   ]
  },
  {
   "cell_type": "code",
   "execution_count": 12,
   "id": "3fae7975",
   "metadata": {},
   "outputs": [
    {
     "data": {
      "text/plain": [
       "[203, 217, 224, 231, 238, 252, 259, 266, 273, 287, 294, 301, 308]"
      ]
     },
     "execution_count": 12,
     "metadata": {},
     "output_type": "execute_result"
    }
   ],
   "source": [
    "result = [i for i in range(200,320) if(i%7==0 and i%5!=0)]\n",
    "result"
   ]
  },
  {
   "cell_type": "code",
   "execution_count": 13,
   "id": "926bbb6d",
   "metadata": {},
   "outputs": [
    {
     "name": "stdout",
     "output_type": "stream",
     "text": [
      "203, 217, 224, 231, 238, 252, 259, 266, 273, 287, 294, 301, 308\n"
     ]
    }
   ],
   "source": [
    "result = [str(i) for i in range(200,320) if(i%7==0 and i%5!=0)]\n",
    "print(\", \".join(result))"
   ]
  },
  {
   "cell_type": "markdown",
   "id": "04ce3d5e",
   "metadata": {},
   "source": [
    "- Dictionary COmprehensions"
   ]
  },
  {
   "cell_type": "code",
   "execution_count": null,
   "id": "41e29a11",
   "metadata": {},
   "outputs": [],
   "source": [
    "# from range of numbers output the squares in dict as given below\n",
    "# {1:1, 2:4, 3:9, 4:16, 5:25}"
   ]
  },
  {
   "cell_type": "code",
   "execution_count": 14,
   "id": "d273e106",
   "metadata": {},
   "outputs": [
    {
     "name": "stdout",
     "output_type": "stream",
     "text": [
      "{1: 1, 2: 4, 3: 9, 4: 16, 5: 25}\n"
     ]
    }
   ],
   "source": [
    "result ={}\n",
    "for item in range(1, 6):\n",
    "    result[item] = item * item\n",
    "print(result)"
   ]
  },
  {
   "cell_type": "code",
   "execution_count": 15,
   "id": "9e8881da",
   "metadata": {},
   "outputs": [],
   "source": [
    "result = {i:i*i for i in range(1, 6) }"
   ]
  },
  {
   "cell_type": "code",
   "execution_count": 16,
   "id": "816a078e",
   "metadata": {},
   "outputs": [
    {
     "data": {
      "text/plain": [
       "{1: 1, 2: 4, 3: 9, 4: 16, 5: 25}"
      ]
     },
     "execution_count": 16,
     "metadata": {},
     "output_type": "execute_result"
    }
   ],
   "source": [
    "result"
   ]
  },
  {
   "cell_type": "code",
   "execution_count": 20,
   "id": "ebb9ad92",
   "metadata": {},
   "outputs": [
    {
     "data": {
      "text/plain": [
       "{'t': 2,\n",
       " 'h': 2,\n",
       " 'e': 3,\n",
       " ' ': 8,\n",
       " 'q': 1,\n",
       " 'u': 2,\n",
       " 'i': 1,\n",
       " 'c': 1,\n",
       " 'k': 1,\n",
       " 'b': 1,\n",
       " 'r': 2,\n",
       " 'o': 4,\n",
       " 'w': 1,\n",
       " 'n': 1,\n",
       " 'f': 1,\n",
       " 'x': 1,\n",
       " 'j': 1,\n",
       " 'm': 1,\n",
       " 'p': 1,\n",
       " 's': 1,\n",
       " 'v': 1,\n",
       " 'l': 1,\n",
       " 'a': 1,\n",
       " 'z': 1,\n",
       " 'y': 1,\n",
       " 'd': 1,\n",
       " 'g': 1}"
      ]
     },
     "execution_count": 20,
     "metadata": {},
     "output_type": "execute_result"
    }
   ],
   "source": [
    "s = \"the quick brown fox jumps over the lazy dog\"\n",
    "result= {i:s.count(i) for i in s}\n",
    "result"
   ]
  },
  {
   "cell_type": "code",
   "execution_count": null,
   "id": "003d9831",
   "metadata": {},
   "outputs": [],
   "source": []
  }
 ],
 "metadata": {
  "kernelspec": {
   "display_name": "Python 3 (ipykernel)",
   "language": "python",
   "name": "python3"
  },
  "language_info": {
   "codemirror_mode": {
    "name": "ipython",
    "version": 3
   },
   "file_extension": ".py",
   "mimetype": "text/x-python",
   "name": "python",
   "nbconvert_exporter": "python",
   "pygments_lexer": "ipython3",
   "version": "3.9.13"
  }
 },
 "nbformat": 4,
 "nbformat_minor": 5
}
